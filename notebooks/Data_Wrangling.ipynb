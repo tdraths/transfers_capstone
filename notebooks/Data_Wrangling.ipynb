{
 "cells": [
  {
   "cell_type": "markdown",
   "metadata": {},
   "source": [
    "# Transfers Capstone - Data Wrangling"
   ]
  },
  {
   "cell_type": "markdown",
   "metadata": {},
   "source": [
    "### Data Collection: 2016-2019 Transfers Data\n",
    "Data sourced from: https://github.com/ewenme/transfers"
   ]
  },
  {
   "cell_type": "markdown",
   "metadata": {},
   "source": [
    "### I. Loading Packages\n",
    " - Loading packages and setting up the environment"
   ]
  },
  {
   "cell_type": "code",
   "execution_count": 1,
   "metadata": {},
   "outputs": [],
   "source": [
    "# Load python packages\n",
    "import os\n",
    "import pandas as pd\n",
    "import datetime\n",
    "import seaborn as sns\n",
    "import matplotlib.pyplot as plt\n",
    "import numpy as np\n",
    "%matplotlib inline"
   ]
  },
  {
   "cell_type": "code",
   "execution_count": 2,
   "metadata": {},
   "outputs": [
    {
     "data": {
      "text/plain": [
       "'/home/tdraths/sb_assignments/Transfers_Capstone'"
      ]
     },
     "execution_count": 2,
     "metadata": {},
     "output_type": "execute_result"
    }
   ],
   "source": [
    "# Checking my working directory\n",
    "os.getcwd()"
   ]
  },
  {
   "cell_type": "code",
   "execution_count": 3,
   "metadata": {},
   "outputs": [
    {
     "data": {
      "text/plain": [
       "['data', '.ipynb_checkpoints', 'figures', 'models', 'Data_Wrangling.ipynb']"
      ]
     },
     "execution_count": 3,
     "metadata": {},
     "output_type": "execute_result"
    }
   ],
   "source": [
    "# Ensuring I have the folders containing my datasets\n",
    "os.listdir(\"/home/tdraths/sb_assignments/Transfers_Capstone\")"
   ]
  },
  {
   "cell_type": "code",
   "execution_count": 4,
   "metadata": {},
   "outputs": [],
   "source": [
    "# My preferred method to begin loading a csv into a dataframe\n",
    "path = \"/home/tdraths/sb_assignments/Transfers_Capstone/data/original_data_sources\"\n",
    "os.chdir(path)"
   ]
  },
  {
   "cell_type": "markdown",
   "metadata": {},
   "source": [
    "### II. Reading CSV into Dataframe\n",
    " - Transfer data for the 2019 season of the English Championship\n",
    " - Data source: https://github.com/ewenme/transfers"
   ]
  },
  {
   "cell_type": "code",
   "execution_count": 5,
   "metadata": {},
   "outputs": [],
   "source": [
    "# Reading CSV into DataFrame\n",
    "ec_2019 = pd.read_csv('english_championship_2019.csv') "
   ]
  },
  {
   "cell_type": "code",
   "execution_count": 6,
   "metadata": {},
   "outputs": [
    {
     "data": {
      "text/html": [
       "<div>\n",
       "<style scoped>\n",
       "    .dataframe tbody tr th:only-of-type {\n",
       "        vertical-align: middle;\n",
       "    }\n",
       "\n",
       "    .dataframe tbody tr th {\n",
       "        vertical-align: top;\n",
       "    }\n",
       "\n",
       "    .dataframe thead th {\n",
       "        text-align: right;\n",
       "    }\n",
       "</style>\n",
       "<table border=\"1\" class=\"dataframe\">\n",
       "  <thead>\n",
       "    <tr style=\"text-align: right;\">\n",
       "      <th></th>\n",
       "      <th>club_name</th>\n",
       "      <th>player_name</th>\n",
       "      <th>age</th>\n",
       "      <th>position</th>\n",
       "      <th>club_involved_name</th>\n",
       "      <th>fee</th>\n",
       "      <th>transfer_movement</th>\n",
       "      <th>fee_cleaned</th>\n",
       "      <th>league_name</th>\n",
       "      <th>year</th>\n",
       "      <th>season</th>\n",
       "    </tr>\n",
       "  </thead>\n",
       "  <tbody>\n",
       "    <tr>\n",
       "      <th>0</th>\n",
       "      <td>Cardiff City</td>\n",
       "      <td>Robert Glatzel</td>\n",
       "      <td>25</td>\n",
       "      <td>Centre-Forward</td>\n",
       "      <td>1.FC Heidenheim</td>\n",
       "      <td>£5.40m</td>\n",
       "      <td>in</td>\n",
       "      <td>5.40</td>\n",
       "      <td>Championship</td>\n",
       "      <td>2019</td>\n",
       "      <td>2019/2020</td>\n",
       "    </tr>\n",
       "    <tr>\n",
       "      <th>1</th>\n",
       "      <td>Cardiff City</td>\n",
       "      <td>Aden Flint</td>\n",
       "      <td>30</td>\n",
       "      <td>Centre-Back</td>\n",
       "      <td>Middlesbrough</td>\n",
       "      <td>£4.01m</td>\n",
       "      <td>in</td>\n",
       "      <td>4.01</td>\n",
       "      <td>Championship</td>\n",
       "      <td>2019</td>\n",
       "      <td>2019/2020</td>\n",
       "    </tr>\n",
       "    <tr>\n",
       "      <th>2</th>\n",
       "      <td>Cardiff City</td>\n",
       "      <td>Will Vaulks</td>\n",
       "      <td>25</td>\n",
       "      <td>Defensive Midfield</td>\n",
       "      <td>Rotherham</td>\n",
       "      <td>£2.12m</td>\n",
       "      <td>in</td>\n",
       "      <td>2.12</td>\n",
       "      <td>Championship</td>\n",
       "      <td>2019</td>\n",
       "      <td>2019/2020</td>\n",
       "    </tr>\n",
       "    <tr>\n",
       "      <th>3</th>\n",
       "      <td>Cardiff City</td>\n",
       "      <td>Gavin Whyte</td>\n",
       "      <td>23</td>\n",
       "      <td>Right Winger</td>\n",
       "      <td>Oxford United</td>\n",
       "      <td>£1.98m</td>\n",
       "      <td>in</td>\n",
       "      <td>1.98</td>\n",
       "      <td>Championship</td>\n",
       "      <td>2019</td>\n",
       "      <td>2019/2020</td>\n",
       "    </tr>\n",
       "    <tr>\n",
       "      <th>4</th>\n",
       "      <td>Cardiff City</td>\n",
       "      <td>Isaac Vassell</td>\n",
       "      <td>25</td>\n",
       "      <td>Centre-Forward</td>\n",
       "      <td>Birmingham</td>\n",
       "      <td>£1.98m</td>\n",
       "      <td>in</td>\n",
       "      <td>1.98</td>\n",
       "      <td>Championship</td>\n",
       "      <td>2019</td>\n",
       "      <td>2019/2020</td>\n",
       "    </tr>\n",
       "  </tbody>\n",
       "</table>\n",
       "</div>"
      ],
      "text/plain": [
       "      club_name     player_name  age            position club_involved_name  \\\n",
       "0  Cardiff City  Robert Glatzel   25      Centre-Forward    1.FC Heidenheim   \n",
       "1  Cardiff City      Aden Flint   30         Centre-Back      Middlesbrough   \n",
       "2  Cardiff City     Will Vaulks   25  Defensive Midfield          Rotherham   \n",
       "3  Cardiff City     Gavin Whyte   23        Right Winger      Oxford United   \n",
       "4  Cardiff City   Isaac Vassell   25      Centre-Forward         Birmingham   \n",
       "\n",
       "      fee transfer_movement  fee_cleaned   league_name  year     season  \n",
       "0  £5.40m                in         5.40  Championship  2019  2019/2020  \n",
       "1  £4.01m                in         4.01  Championship  2019  2019/2020  \n",
       "2  £2.12m                in         2.12  Championship  2019  2019/2020  \n",
       "3  £1.98m                in         1.98  Championship  2019  2019/2020  \n",
       "4  £1.98m                in         1.98  Championship  2019  2019/2020  "
      ]
     },
     "execution_count": 6,
     "metadata": {},
     "output_type": "execute_result"
    }
   ],
   "source": [
    "# Quick look at a small segment of data\n",
    "ec_2019.head() "
   ]
  },
  {
   "cell_type": "code",
   "execution_count": 7,
   "metadata": {},
   "outputs": [
    {
     "data": {
      "text/plain": [
       "Index(['club_name', 'player_name', 'age', 'position', 'club_involved_name',\n",
       "       'fee', 'transfer_movement', 'fee_cleaned', 'league_name', 'year',\n",
       "       'season'],\n",
       "      dtype='object')"
      ]
     },
     "execution_count": 7,
     "metadata": {},
     "output_type": "execute_result"
    }
   ],
   "source": [
    "ec_2019.columns \n",
    "# I'll keep all of these columns intact, as I think they'll be useful later"
   ]
  },
  {
   "cell_type": "code",
   "execution_count": 8,
   "metadata": {},
   "outputs": [
    {
     "data": {
      "text/plain": [
       "club_name              object\n",
       "player_name            object\n",
       "age                     int64\n",
       "position               object\n",
       "club_involved_name     object\n",
       "fee                    object\n",
       "transfer_movement      object\n",
       "fee_cleaned           float64\n",
       "league_name            object\n",
       "year                    int64\n",
       "season                 object\n",
       "dtype: object"
      ]
     },
     "execution_count": 8,
     "metadata": {},
     "output_type": "execute_result"
    }
   ],
   "source": [
    "ec_2019.dtypes \n",
    "#'Fee' is feature with object types, 'fee_cleaned' contains float types. \n",
    "# I will use 'fee_cleaned' for the best look at the "
   ]
  },
  {
   "cell_type": "code",
   "execution_count": 9,
   "metadata": {},
   "outputs": [
    {
     "name": "stdout",
     "output_type": "stream",
     "text": [
      "<class 'pandas.core.frame.DataFrame'>\n",
      "RangeIndex: 975 entries, 0 to 974\n",
      "Data columns (total 11 columns):\n",
      " #   Column              Non-Null Count  Dtype  \n",
      "---  ------              --------------  -----  \n",
      " 0   club_name           975 non-null    object \n",
      " 1   player_name         975 non-null    object \n",
      " 2   age                 975 non-null    int64  \n",
      " 3   position            975 non-null    object \n",
      " 4   club_involved_name  975 non-null    object \n",
      " 5   fee                 975 non-null    object \n",
      " 6   transfer_movement   975 non-null    object \n",
      " 7   fee_cleaned         688 non-null    float64\n",
      " 8   league_name         975 non-null    object \n",
      " 9   year                975 non-null    int64  \n",
      " 10  season              975 non-null    object \n",
      "dtypes: float64(1), int64(2), object(8)\n",
      "memory usage: 83.9+ KB\n"
     ]
    }
   ],
   "source": [
    "ec_2019.info()\n",
    "# 'Fee_cleaned' looks like it has some null values in it I'll deal with later."
   ]
  },
  {
   "cell_type": "code",
   "execution_count": 10,
   "metadata": {},
   "outputs": [
    {
     "data": {
      "text/plain": [
       "(975, 11)"
      ]
     },
     "execution_count": 10,
     "metadata": {},
     "output_type": "execute_result"
    }
   ],
   "source": [
    "ec_2019.shape"
   ]
  },
  {
   "cell_type": "code",
   "execution_count": 11,
   "metadata": {},
   "outputs": [
    {
     "data": {
      "text/plain": [
       "club_name              24\n",
       "player_name           645\n",
       "age                    24\n",
       "position               15\n",
       "club_involved_name    304\n",
       "fee                   127\n",
       "transfer_movement       2\n",
       "fee_cleaned            58\n",
       "league_name             1\n",
       "year                    1\n",
       "season                  1\n",
       "dtype: int64"
      ]
     },
     "execution_count": 11,
     "metadata": {},
     "output_type": "execute_result"
    }
   ],
   "source": [
    "ec_2019.nunique()"
   ]
  },
  {
   "cell_type": "code",
   "execution_count": 12,
   "metadata": {},
   "outputs": [
    {
     "data": {
      "text/plain": [
       "Bristol City            60\n",
       "Huddersfield Town       55\n",
       "Nottingham Forest       55\n",
       "Reading FC              52\n",
       "Leeds United            50\n",
       "Charlton Athletic       45\n",
       "Birmingham City         45\n",
       "Stoke City              44\n",
       "Queens Park Rangers     43\n",
       "Swansea City            42\n",
       "Wigan Athletic          42\n",
       "Brentford FC            41\n",
       "Hull City               40\n",
       "Cardiff City            39\n",
       "Derby County            38\n",
       "Barnsley FC             38\n",
       "Preston North End       35\n",
       "Luton Town              35\n",
       "Fulham FC               34\n",
       "West Bromwich Albion    34\n",
       "Sheffield Wednesday     31\n",
       "Millwall FC             28\n",
       "Middlesbrough FC        27\n",
       "Blackburn Rovers        22\n",
       "Name: club_name, dtype: int64"
      ]
     },
     "execution_count": 12,
     "metadata": {},
     "output_type": "execute_result"
    }
   ],
   "source": [
    "# Looking at number of records per club\n",
    "ec_2019.club_name.value_counts()"
   ]
  },
  {
   "cell_type": "code",
   "execution_count": 13,
   "metadata": {},
   "outputs": [
    {
     "data": {
      "text/html": [
       "<div>\n",
       "<style scoped>\n",
       "    .dataframe tbody tr th:only-of-type {\n",
       "        vertical-align: middle;\n",
       "    }\n",
       "\n",
       "    .dataframe tbody tr th {\n",
       "        vertical-align: top;\n",
       "    }\n",
       "\n",
       "    .dataframe thead th {\n",
       "        text-align: right;\n",
       "    }\n",
       "</style>\n",
       "<table border=\"1\" class=\"dataframe\">\n",
       "  <thead>\n",
       "    <tr style=\"text-align: right;\">\n",
       "      <th></th>\n",
       "      <th>min</th>\n",
       "      <th>max</th>\n",
       "    </tr>\n",
       "  </thead>\n",
       "  <tbody>\n",
       "    <tr>\n",
       "      <th>club_name</th>\n",
       "      <td>Barnsley FC</td>\n",
       "      <td>Wigan Athletic</td>\n",
       "    </tr>\n",
       "    <tr>\n",
       "      <th>player_name</th>\n",
       "      <td>Aapo Halme</td>\n",
       "      <td>Álvaro Giménez</td>\n",
       "    </tr>\n",
       "    <tr>\n",
       "      <th>age</th>\n",
       "      <td>16</td>\n",
       "      <td>40</td>\n",
       "    </tr>\n",
       "    <tr>\n",
       "      <th>position</th>\n",
       "      <td>Attacking Midfield</td>\n",
       "      <td>Second Striker</td>\n",
       "    </tr>\n",
       "    <tr>\n",
       "      <th>club_involved_name</th>\n",
       "      <td>1. FC Köln</td>\n",
       "      <td>Zulte Waregem</td>\n",
       "    </tr>\n",
       "    <tr>\n",
       "      <th>fee</th>\n",
       "      <td>-</td>\n",
       "      <td>£990Th.</td>\n",
       "    </tr>\n",
       "    <tr>\n",
       "      <th>transfer_movement</th>\n",
       "      <td>in</td>\n",
       "      <td>out</td>\n",
       "    </tr>\n",
       "    <tr>\n",
       "      <th>fee_cleaned</th>\n",
       "      <td>0</td>\n",
       "      <td>24.3</td>\n",
       "    </tr>\n",
       "    <tr>\n",
       "      <th>league_name</th>\n",
       "      <td>Championship</td>\n",
       "      <td>Championship</td>\n",
       "    </tr>\n",
       "    <tr>\n",
       "      <th>year</th>\n",
       "      <td>2019</td>\n",
       "      <td>2019</td>\n",
       "    </tr>\n",
       "    <tr>\n",
       "      <th>season</th>\n",
       "      <td>2019/2020</td>\n",
       "      <td>2019/2020</td>\n",
       "    </tr>\n",
       "  </tbody>\n",
       "</table>\n",
       "</div>"
      ],
      "text/plain": [
       "                                   min             max\n",
       "club_name                  Barnsley FC  Wigan Athletic\n",
       "player_name                 Aapo Halme  Álvaro Giménez\n",
       "age                                 16              40\n",
       "position            Attacking Midfield  Second Striker\n",
       "club_involved_name          1. FC Köln   Zulte Waregem\n",
       "fee                                  -         £990Th.\n",
       "transfer_movement                   in             out\n",
       "fee_cleaned                          0            24.3\n",
       "league_name               Championship    Championship\n",
       "year                              2019            2019\n",
       "season                       2019/2020       2019/2020"
      ]
     },
     "execution_count": 13,
     "metadata": {},
     "output_type": "execute_result"
    }
   ],
   "source": [
    "ec_2019.agg([min, max]).T\n",
    "# A better look at the difference between 'fee' and 'fee_cleaned' data types\n",
    "# Fee_cleaned is a float type, with 1.0 = £1mil."
   ]
  },
  {
   "cell_type": "code",
   "execution_count": 14,
   "metadata": {},
   "outputs": [
    {
     "data": {
      "text/html": [
       "<div>\n",
       "<style scoped>\n",
       "    .dataframe tbody tr th:only-of-type {\n",
       "        vertical-align: middle;\n",
       "    }\n",
       "\n",
       "    .dataframe tbody tr th {\n",
       "        vertical-align: top;\n",
       "    }\n",
       "\n",
       "    .dataframe thead th {\n",
       "        text-align: right;\n",
       "    }\n",
       "</style>\n",
       "<table border=\"1\" class=\"dataframe\">\n",
       "  <thead>\n",
       "    <tr style=\"text-align: right;\">\n",
       "      <th></th>\n",
       "      <th>percent</th>\n",
       "    </tr>\n",
       "  </thead>\n",
       "  <tbody>\n",
       "    <tr>\n",
       "      <th>fee_cleaned</th>\n",
       "      <td>0.294359</td>\n",
       "    </tr>\n",
       "  </tbody>\n",
       "</table>\n",
       "</div>"
      ],
      "text/plain": [
       "              percent\n",
       "fee_cleaned  0.294359"
      ]
     },
     "execution_count": 14,
     "metadata": {},
     "output_type": "execute_result"
    }
   ],
   "source": [
    "# It's pretty clear from the .info method that the only column with null values is 'fee_cleaned'\n",
    "# I want to ensure that's the case, and I want to see exactly what proportion of 'fee_cleaned' needs to be handled\n",
    "nulls = pd.DataFrame(ec_2019.isnull().sum().sort_values(ascending=False)/len(ec_2019), columns = ['percent'])\n",
    "percent_null = nulls['percent'] > 0\n",
    "nulls[percent_null]"
   ]
  },
  {
   "cell_type": "code",
   "execution_count": 15,
   "metadata": {},
   "outputs": [],
   "source": [
    "# I know from the data that 'fee_cleaned' null values are null because there was no fee associated with the transfer\n",
    "# I'll fill with 0, and then later I'll check that the only values in 'fee_cleaned' are between 0 and some higher float.\n",
    "ec_2019.fee_cleaned.fillna(0, inplace=True)"
   ]
  },
  {
   "cell_type": "code",
   "execution_count": 16,
   "metadata": {},
   "outputs": [
    {
     "data": {
      "text/html": [
       "<div>\n",
       "<style scoped>\n",
       "    .dataframe tbody tr th:only-of-type {\n",
       "        vertical-align: middle;\n",
       "    }\n",
       "\n",
       "    .dataframe tbody tr th {\n",
       "        vertical-align: top;\n",
       "    }\n",
       "\n",
       "    .dataframe thead th {\n",
       "        text-align: right;\n",
       "    }\n",
       "</style>\n",
       "<table border=\"1\" class=\"dataframe\">\n",
       "  <thead>\n",
       "    <tr style=\"text-align: right;\">\n",
       "      <th></th>\n",
       "      <th>club_name</th>\n",
       "      <th>player_name</th>\n",
       "      <th>age</th>\n",
       "      <th>position</th>\n",
       "      <th>club_involved_name</th>\n",
       "      <th>fee</th>\n",
       "      <th>transfer_movement</th>\n",
       "      <th>fee_cleaned</th>\n",
       "      <th>league_name</th>\n",
       "      <th>year</th>\n",
       "      <th>season</th>\n",
       "    </tr>\n",
       "  </thead>\n",
       "  <tbody>\n",
       "  </tbody>\n",
       "</table>\n",
       "</div>"
      ],
      "text/plain": [
       "Empty DataFrame\n",
       "Columns: [club_name, player_name, age, position, club_involved_name, fee, transfer_movement, fee_cleaned, league_name, year, season]\n",
       "Index: []"
      ]
     },
     "execution_count": 16,
     "metadata": {},
     "output_type": "execute_result"
    }
   ],
   "source": [
    "# Checking for duplicate rows.\n",
    "duplicateRowsDF_2019 = ec_2019[ec_2019.duplicated()]\n",
    "duplicateRowsDF_2019"
   ]
  },
  {
   "cell_type": "code",
   "execution_count": 91,
   "metadata": {},
   "outputs": [
    {
     "data": {
      "text/html": [
       "<div>\n",
       "<style scoped>\n",
       "    .dataframe tbody tr th:only-of-type {\n",
       "        vertical-align: middle;\n",
       "    }\n",
       "\n",
       "    .dataframe tbody tr th {\n",
       "        vertical-align: top;\n",
       "    }\n",
       "\n",
       "    .dataframe thead th {\n",
       "        text-align: right;\n",
       "    }\n",
       "</style>\n",
       "<table border=\"1\" class=\"dataframe\">\n",
       "  <thead>\n",
       "    <tr style=\"text-align: right;\">\n",
       "      <th></th>\n",
       "      <th>year</th>\n",
       "      <th>club_name</th>\n",
       "      <th>Unnamed: 0</th>\n",
       "      <th>age</th>\n",
       "      <th>fee_cleaned</th>\n",
       "      <th>club_total</th>\n",
       "    </tr>\n",
       "  </thead>\n",
       "  <tbody>\n",
       "    <tr>\n",
       "      <th>0</th>\n",
       "      <td>2019</td>\n",
       "      <td>Barnsley FC</td>\n",
       "      <td>34599</td>\n",
       "      <td>866</td>\n",
       "      <td>9.78</td>\n",
       "      <td>0.0</td>\n",
       "    </tr>\n",
       "    <tr>\n",
       "      <th>1</th>\n",
       "      <td>2019</td>\n",
       "      <td>Birmingham City</td>\n",
       "      <td>30105</td>\n",
       "      <td>1125</td>\n",
       "      <td>29.61</td>\n",
       "      <td>0.0</td>\n",
       "    </tr>\n",
       "    <tr>\n",
       "      <th>2</th>\n",
       "      <td>2019</td>\n",
       "      <td>Blackburn Rovers</td>\n",
       "      <td>13013</td>\n",
       "      <td>573</td>\n",
       "      <td>8.87</td>\n",
       "      <td>0.0</td>\n",
       "    </tr>\n",
       "    <tr>\n",
       "      <th>3</th>\n",
       "      <td>2019</td>\n",
       "      <td>Brentford FC</td>\n",
       "      <td>18614</td>\n",
       "      <td>912</td>\n",
       "      <td>67.16</td>\n",
       "      <td>0.0</td>\n",
       "    </tr>\n",
       "    <tr>\n",
       "      <th>4</th>\n",
       "      <td>2019</td>\n",
       "      <td>Bristol City</td>\n",
       "      <td>18390</td>\n",
       "      <td>1459</td>\n",
       "      <td>71.38</td>\n",
       "      <td>0.0</td>\n",
       "    </tr>\n",
       "  </tbody>\n",
       "</table>\n",
       "</div>"
      ],
      "text/plain": [
       "   year         club_name  Unnamed: 0   age  fee_cleaned  club_total\n",
       "0  2019       Barnsley FC       34599   866         9.78         0.0\n",
       "1  2019   Birmingham City       30105  1125        29.61         0.0\n",
       "2  2019  Blackburn Rovers       13013   573         8.87         0.0\n",
       "3  2019      Brentford FC       18614   912        67.16         0.0\n",
       "4  2019      Bristol City       18390  1459        71.38         0.0"
      ]
     },
     "execution_count": 91,
     "metadata": {},
     "output_type": "execute_result"
    }
   ],
   "source": [
    "df1 = ec_2019.groupby(['year', 'club_name'], as_index=False).sum()\n",
    "df1.head()"
   ]
  },
  {
   "cell_type": "code",
   "execution_count": null,
   "metadata": {},
   "outputs": [],
   "source": []
  },
  {
   "cell_type": "code",
   "execution_count": null,
   "metadata": {},
   "outputs": [],
   "source": []
  },
  {
   "cell_type": "code",
   "execution_count": null,
   "metadata": {},
   "outputs": [],
   "source": []
  },
  {
   "cell_type": "code",
   "execution_count": 17,
   "metadata": {},
   "outputs": [],
   "source": [
    "# Saving ec_2019 back to a csv with no nulls in 'fee_cleaned'\n",
    "ec_2019.to_csv(\"/home/tdraths/sb_assignments/Transfers_Capstone/data/data_cleaning_outputs/english_championship_2019_output.csv\")"
   ]
  },
  {
   "cell_type": "markdown",
   "metadata": {},
   "source": [
    "### III. Reading CSV into Dataframe\n",
    " - Transfer data for the 2018 season of the English Championship\n",
    " - Data source: https://github.com/ewenme/transfers"
   ]
  },
  {
   "cell_type": "code",
   "execution_count": 18,
   "metadata": {},
   "outputs": [],
   "source": [
    "ec_2018 = pd.read_csv(\"/home/tdraths/sb_assignments/Transfers_Capstone/data/original_data_sources/english_championship_2018.csv\")"
   ]
  },
  {
   "cell_type": "code",
   "execution_count": 19,
   "metadata": {},
   "outputs": [
    {
     "data": {
      "text/html": [
       "<div>\n",
       "<style scoped>\n",
       "    .dataframe tbody tr th:only-of-type {\n",
       "        vertical-align: middle;\n",
       "    }\n",
       "\n",
       "    .dataframe tbody tr th {\n",
       "        vertical-align: top;\n",
       "    }\n",
       "\n",
       "    .dataframe thead th {\n",
       "        text-align: right;\n",
       "    }\n",
       "</style>\n",
       "<table border=\"1\" class=\"dataframe\">\n",
       "  <thead>\n",
       "    <tr style=\"text-align: right;\">\n",
       "      <th></th>\n",
       "      <th>club_name</th>\n",
       "      <th>player_name</th>\n",
       "      <th>age</th>\n",
       "      <th>position</th>\n",
       "      <th>club_involved_name</th>\n",
       "      <th>fee</th>\n",
       "      <th>transfer_movement</th>\n",
       "      <th>fee_cleaned</th>\n",
       "      <th>league_name</th>\n",
       "      <th>year</th>\n",
       "      <th>season</th>\n",
       "    </tr>\n",
       "  </thead>\n",
       "  <tbody>\n",
       "    <tr>\n",
       "      <th>0</th>\n",
       "      <td>Swansea City</td>\n",
       "      <td>Bersant Celina</td>\n",
       "      <td>21</td>\n",
       "      <td>Attacking Midfield</td>\n",
       "      <td>Man City</td>\n",
       "      <td>£3.06m</td>\n",
       "      <td>in</td>\n",
       "      <td>3.060</td>\n",
       "      <td>Championship</td>\n",
       "      <td>2018</td>\n",
       "      <td>2018/2019</td>\n",
       "    </tr>\n",
       "    <tr>\n",
       "      <th>1</th>\n",
       "      <td>Swansea City</td>\n",
       "      <td>Joel Asoro</td>\n",
       "      <td>19</td>\n",
       "      <td>Centre-Forward</td>\n",
       "      <td>Sunderland</td>\n",
       "      <td>£2.07m</td>\n",
       "      <td>in</td>\n",
       "      <td>2.070</td>\n",
       "      <td>Championship</td>\n",
       "      <td>2018</td>\n",
       "      <td>2018/2019</td>\n",
       "    </tr>\n",
       "    <tr>\n",
       "      <th>2</th>\n",
       "      <td>Swansea City</td>\n",
       "      <td>Declan John</td>\n",
       "      <td>23</td>\n",
       "      <td>Left-Back</td>\n",
       "      <td>Rangers</td>\n",
       "      <td>£801k</td>\n",
       "      <td>in</td>\n",
       "      <td>0.801</td>\n",
       "      <td>Championship</td>\n",
       "      <td>2018</td>\n",
       "      <td>2018/2019</td>\n",
       "    </tr>\n",
       "    <tr>\n",
       "      <th>3</th>\n",
       "      <td>Swansea City</td>\n",
       "      <td>Barrie McKay</td>\n",
       "      <td>23</td>\n",
       "      <td>Left Winger</td>\n",
       "      <td>Nottm Forest</td>\n",
       "      <td>£504k</td>\n",
       "      <td>in</td>\n",
       "      <td>0.504</td>\n",
       "      <td>Championship</td>\n",
       "      <td>2018</td>\n",
       "      <td>2018/2019</td>\n",
       "    </tr>\n",
       "    <tr>\n",
       "      <th>4</th>\n",
       "      <td>Swansea City</td>\n",
       "      <td>Yan Dhanda</td>\n",
       "      <td>19</td>\n",
       "      <td>Left Midfield</td>\n",
       "      <td>Liverpool U23</td>\n",
       "      <td>Free Transfer</td>\n",
       "      <td>in</td>\n",
       "      <td>0.000</td>\n",
       "      <td>Championship</td>\n",
       "      <td>2018</td>\n",
       "      <td>2018/2019</td>\n",
       "    </tr>\n",
       "  </tbody>\n",
       "</table>\n",
       "</div>"
      ],
      "text/plain": [
       "      club_name     player_name  age            position club_involved_name  \\\n",
       "0  Swansea City  Bersant Celina   21  Attacking Midfield           Man City   \n",
       "1  Swansea City      Joel Asoro   19      Centre-Forward         Sunderland   \n",
       "2  Swansea City     Declan John   23           Left-Back            Rangers   \n",
       "3  Swansea City    Barrie McKay   23         Left Winger       Nottm Forest   \n",
       "4  Swansea City      Yan Dhanda   19       Left Midfield      Liverpool U23   \n",
       "\n",
       "             fee transfer_movement  fee_cleaned   league_name  year     season  \n",
       "0         £3.06m                in        3.060  Championship  2018  2018/2019  \n",
       "1         £2.07m                in        2.070  Championship  2018  2018/2019  \n",
       "2          £801k                in        0.801  Championship  2018  2018/2019  \n",
       "3          £504k                in        0.504  Championship  2018  2018/2019  \n",
       "4  Free Transfer                in        0.000  Championship  2018  2018/2019  "
      ]
     },
     "execution_count": 19,
     "metadata": {},
     "output_type": "execute_result"
    }
   ],
   "source": [
    "ec_2018.head()"
   ]
  },
  {
   "cell_type": "code",
   "execution_count": 20,
   "metadata": {},
   "outputs": [
    {
     "data": {
      "text/plain": [
       "Index(['club_name', 'player_name', 'age', 'position', 'club_involved_name',\n",
       "       'fee', 'transfer_movement', 'fee_cleaned', 'league_name', 'year',\n",
       "       'season'],\n",
       "      dtype='object')"
      ]
     },
     "execution_count": 20,
     "metadata": {},
     "output_type": "execute_result"
    }
   ],
   "source": [
    "ec_2018.columns"
   ]
  },
  {
   "cell_type": "code",
   "execution_count": 21,
   "metadata": {},
   "outputs": [
    {
     "data": {
      "text/plain": [
       "club_name              object\n",
       "player_name            object\n",
       "age                     int64\n",
       "position               object\n",
       "club_involved_name     object\n",
       "fee                    object\n",
       "transfer_movement      object\n",
       "fee_cleaned           float64\n",
       "league_name            object\n",
       "year                    int64\n",
       "season                 object\n",
       "dtype: object"
      ]
     },
     "execution_count": 21,
     "metadata": {},
     "output_type": "execute_result"
    }
   ],
   "source": [
    "ec_2018.dtypes"
   ]
  },
  {
   "cell_type": "code",
   "execution_count": 22,
   "metadata": {},
   "outputs": [
    {
     "name": "stdout",
     "output_type": "stream",
     "text": [
      "<class 'pandas.core.frame.DataFrame'>\n",
      "RangeIndex: 1105 entries, 0 to 1104\n",
      "Data columns (total 11 columns):\n",
      " #   Column              Non-Null Count  Dtype  \n",
      "---  ------              --------------  -----  \n",
      " 0   club_name           1105 non-null   object \n",
      " 1   player_name         1105 non-null   object \n",
      " 2   age                 1105 non-null   int64  \n",
      " 3   position            1105 non-null   object \n",
      " 4   club_involved_name  1105 non-null   object \n",
      " 5   fee                 1105 non-null   object \n",
      " 6   transfer_movement   1105 non-null   object \n",
      " 7   fee_cleaned         1040 non-null   float64\n",
      " 8   league_name         1105 non-null   object \n",
      " 9   year                1105 non-null   int64  \n",
      " 10  season              1105 non-null   object \n",
      "dtypes: float64(1), int64(2), object(8)\n",
      "memory usage: 95.1+ KB\n"
     ]
    }
   ],
   "source": [
    "ec_2018.info()"
   ]
  },
  {
   "cell_type": "code",
   "execution_count": 23,
   "metadata": {},
   "outputs": [
    {
     "data": {
      "text/plain": [
       "(1105, 11)"
      ]
     },
     "execution_count": 23,
     "metadata": {},
     "output_type": "execute_result"
    }
   ],
   "source": [
    "ec_2018.shape"
   ]
  },
  {
   "cell_type": "code",
   "execution_count": 24,
   "metadata": {},
   "outputs": [
    {
     "data": {
      "text/plain": [
       "club_name              24\n",
       "player_name           615\n",
       "age                    23\n",
       "position               15\n",
       "club_involved_name    295\n",
       "fee                   141\n",
       "transfer_movement       2\n",
       "fee_cleaned            77\n",
       "league_name             1\n",
       "year                    1\n",
       "season                  1\n",
       "dtype: int64"
      ]
     },
     "execution_count": 24,
     "metadata": {},
     "output_type": "execute_result"
    }
   ],
   "source": [
    "ec_2018.nunique()"
   ]
  },
  {
   "cell_type": "code",
   "execution_count": 25,
   "metadata": {},
   "outputs": [
    {
     "data": {
      "text/plain": [
       "Nottingham Forest       74\n",
       "Reading FC              58\n",
       "Wigan Athletic          57\n",
       "Sheffield United        55\n",
       "Aston Villa             55\n",
       "Leeds United            54\n",
       "Ipswich Town            54\n",
       "Middlesbrough FC        48\n",
       "Norwich City            48\n",
       "Preston North End       47\n",
       "Derby County            46\n",
       "Birmingham City         45\n",
       "Millwall FC             45\n",
       "Bolton Wanderers        44\n",
       "Rotherham United        44\n",
       "Stoke City              43\n",
       "Bristol City            42\n",
       "Queens Park Rangers     41\n",
       "Blackburn Rovers        41\n",
       "Swansea City            40\n",
       "West Bromwich Albion    38\n",
       "Brentford FC            32\n",
       "Hull City               32\n",
       "Sheffield Wednesday     22\n",
       "Name: club_name, dtype: int64"
      ]
     },
     "execution_count": 25,
     "metadata": {},
     "output_type": "execute_result"
    }
   ],
   "source": [
    "ec_2018.club_name.value_counts()"
   ]
  },
  {
   "cell_type": "code",
   "execution_count": 26,
   "metadata": {},
   "outputs": [
    {
     "data": {
      "text/html": [
       "<div>\n",
       "<style scoped>\n",
       "    .dataframe tbody tr th:only-of-type {\n",
       "        vertical-align: middle;\n",
       "    }\n",
       "\n",
       "    .dataframe tbody tr th {\n",
       "        vertical-align: top;\n",
       "    }\n",
       "\n",
       "    .dataframe thead th {\n",
       "        text-align: right;\n",
       "    }\n",
       "</style>\n",
       "<table border=\"1\" class=\"dataframe\">\n",
       "  <thead>\n",
       "    <tr style=\"text-align: right;\">\n",
       "      <th></th>\n",
       "      <th>min</th>\n",
       "      <th>max</th>\n",
       "    </tr>\n",
       "  </thead>\n",
       "  <tbody>\n",
       "    <tr>\n",
       "      <th>club_name</th>\n",
       "      <td>Aston Villa</td>\n",
       "      <td>Wigan Athletic</td>\n",
       "    </tr>\n",
       "    <tr>\n",
       "      <th>player_name</th>\n",
       "      <td>Aaron Drinan</td>\n",
       "      <td>Örjan Nyland</td>\n",
       "    </tr>\n",
       "    <tr>\n",
       "      <th>age</th>\n",
       "      <td>17</td>\n",
       "      <td>39</td>\n",
       "    </tr>\n",
       "    <tr>\n",
       "      <th>position</th>\n",
       "      <td>Attacking Midfield</td>\n",
       "      <td>Second Striker</td>\n",
       "    </tr>\n",
       "    <tr>\n",
       "      <th>club_involved_name</th>\n",
       "      <td>1. FC Köln</td>\n",
       "      <td>Östersund</td>\n",
       "    </tr>\n",
       "    <tr>\n",
       "      <th>fee</th>\n",
       "      <td>-</td>\n",
       "      <td>£990k</td>\n",
       "    </tr>\n",
       "    <tr>\n",
       "      <th>transfer_movement</th>\n",
       "      <td>in</td>\n",
       "      <td>out</td>\n",
       "    </tr>\n",
       "    <tr>\n",
       "      <th>fee_cleaned</th>\n",
       "      <td>0</td>\n",
       "      <td>22.5</td>\n",
       "    </tr>\n",
       "    <tr>\n",
       "      <th>league_name</th>\n",
       "      <td>Championship</td>\n",
       "      <td>Championship</td>\n",
       "    </tr>\n",
       "    <tr>\n",
       "      <th>year</th>\n",
       "      <td>2018</td>\n",
       "      <td>2018</td>\n",
       "    </tr>\n",
       "    <tr>\n",
       "      <th>season</th>\n",
       "      <td>2018/2019</td>\n",
       "      <td>2018/2019</td>\n",
       "    </tr>\n",
       "  </tbody>\n",
       "</table>\n",
       "</div>"
      ],
      "text/plain": [
       "                                   min             max\n",
       "club_name                  Aston Villa  Wigan Athletic\n",
       "player_name               Aaron Drinan    Örjan Nyland\n",
       "age                                 17              39\n",
       "position            Attacking Midfield  Second Striker\n",
       "club_involved_name          1. FC Köln       Östersund\n",
       "fee                                  -           £990k\n",
       "transfer_movement                   in             out\n",
       "fee_cleaned                          0            22.5\n",
       "league_name               Championship    Championship\n",
       "year                              2018            2018\n",
       "season                       2018/2019       2018/2019"
      ]
     },
     "execution_count": 26,
     "metadata": {},
     "output_type": "execute_result"
    }
   ],
   "source": [
    "ec_2018.agg([min, max]).T"
   ]
  },
  {
   "cell_type": "code",
   "execution_count": 27,
   "metadata": {},
   "outputs": [
    {
     "data": {
      "text/html": [
       "<div>\n",
       "<style scoped>\n",
       "    .dataframe tbody tr th:only-of-type {\n",
       "        vertical-align: middle;\n",
       "    }\n",
       "\n",
       "    .dataframe tbody tr th {\n",
       "        vertical-align: top;\n",
       "    }\n",
       "\n",
       "    .dataframe thead th {\n",
       "        text-align: right;\n",
       "    }\n",
       "</style>\n",
       "<table border=\"1\" class=\"dataframe\">\n",
       "  <thead>\n",
       "    <tr style=\"text-align: right;\">\n",
       "      <th></th>\n",
       "      <th>percent</th>\n",
       "    </tr>\n",
       "  </thead>\n",
       "  <tbody>\n",
       "    <tr>\n",
       "      <th>fee_cleaned</th>\n",
       "      <td>0.058824</td>\n",
       "    </tr>\n",
       "  </tbody>\n",
       "</table>\n",
       "</div>"
      ],
      "text/plain": [
       "              percent\n",
       "fee_cleaned  0.058824"
      ]
     },
     "execution_count": 27,
     "metadata": {},
     "output_type": "execute_result"
    }
   ],
   "source": [
    "nulls = pd.DataFrame(ec_2018.isnull().sum().sort_values(ascending=False)/len(ec_2018), columns = ['percent'])\n",
    "percent_null = nulls['percent'] > 0\n",
    "nulls[percent_null]"
   ]
  },
  {
   "cell_type": "code",
   "execution_count": 28,
   "metadata": {},
   "outputs": [],
   "source": [
    "ec_2018.fee_cleaned.fillna(0, inplace=True)"
   ]
  },
  {
   "cell_type": "code",
   "execution_count": 29,
   "metadata": {},
   "outputs": [
    {
     "data": {
      "text/html": [
       "<div>\n",
       "<style scoped>\n",
       "    .dataframe tbody tr th:only-of-type {\n",
       "        vertical-align: middle;\n",
       "    }\n",
       "\n",
       "    .dataframe tbody tr th {\n",
       "        vertical-align: top;\n",
       "    }\n",
       "\n",
       "    .dataframe thead th {\n",
       "        text-align: right;\n",
       "    }\n",
       "</style>\n",
       "<table border=\"1\" class=\"dataframe\">\n",
       "  <thead>\n",
       "    <tr style=\"text-align: right;\">\n",
       "      <th></th>\n",
       "      <th>club_name</th>\n",
       "      <th>player_name</th>\n",
       "      <th>age</th>\n",
       "      <th>position</th>\n",
       "      <th>club_involved_name</th>\n",
       "      <th>fee</th>\n",
       "      <th>transfer_movement</th>\n",
       "      <th>fee_cleaned</th>\n",
       "      <th>league_name</th>\n",
       "      <th>year</th>\n",
       "      <th>season</th>\n",
       "    </tr>\n",
       "  </thead>\n",
       "  <tbody>\n",
       "    <tr>\n",
       "      <th>262</th>\n",
       "      <td>Derby County</td>\n",
       "      <td>Max Lowe</td>\n",
       "      <td>21</td>\n",
       "      <td>Left-Back</td>\n",
       "      <td>Aberdeen FC</td>\n",
       "      <td>Loan</td>\n",
       "      <td>out</td>\n",
       "      <td>0.0</td>\n",
       "      <td>Championship</td>\n",
       "      <td>2018</td>\n",
       "      <td>2018/2019</td>\n",
       "    </tr>\n",
       "    <tr>\n",
       "      <th>775</th>\n",
       "      <td>Nottingham Forest</td>\n",
       "      <td>Zach Clough</td>\n",
       "      <td>23</td>\n",
       "      <td>Second Striker</td>\n",
       "      <td>Rochdale</td>\n",
       "      <td>Loan</td>\n",
       "      <td>out</td>\n",
       "      <td>0.0</td>\n",
       "      <td>Championship</td>\n",
       "      <td>2018</td>\n",
       "      <td>2018/2019</td>\n",
       "    </tr>\n",
       "  </tbody>\n",
       "</table>\n",
       "</div>"
      ],
      "text/plain": [
       "             club_name  player_name  age        position club_involved_name  \\\n",
       "262       Derby County     Max Lowe   21       Left-Back        Aberdeen FC   \n",
       "775  Nottingham Forest  Zach Clough   23  Second Striker           Rochdale   \n",
       "\n",
       "      fee transfer_movement  fee_cleaned   league_name  year     season  \n",
       "262  Loan               out          0.0  Championship  2018  2018/2019  \n",
       "775  Loan               out          0.0  Championship  2018  2018/2019  "
      ]
     },
     "execution_count": 29,
     "metadata": {},
     "output_type": "execute_result"
    }
   ],
   "source": [
    "duplicateRowsDF_2018 = ec_2018[ec_2018.duplicated()]\n",
    "duplicateRowsDF_2018\n",
    "# Looks like we have a couple of duplicate rows\n",
    "# I'll leave them alone for now, because I think they may reflect the same players going on loan twice in a season"
   ]
  },
  {
   "cell_type": "code",
   "execution_count": 30,
   "metadata": {},
   "outputs": [],
   "source": [
    "ec_2018.to_csv(\"/home/tdraths/sb_assignments/Transfers_Capstone/data/data_cleaning_outputs/english_championship_2018_output.csv\")"
   ]
  },
  {
   "cell_type": "markdown",
   "metadata": {},
   "source": [
    "### IV. Reading CSV into Dataframe\n",
    " - Transfer data for the 2017 season of the English Championship\n",
    " - Data source: https://github.com/ewenme/transfers"
   ]
  },
  {
   "cell_type": "code",
   "execution_count": 31,
   "metadata": {},
   "outputs": [],
   "source": [
    "ec_2017 = pd.read_csv(\"/home/tdraths/sb_assignments/Transfers_Capstone/data/original_data_sources/english_championship_2017.csv\")"
   ]
  },
  {
   "cell_type": "code",
   "execution_count": 32,
   "metadata": {},
   "outputs": [
    {
     "data": {
      "text/html": [
       "<div>\n",
       "<style scoped>\n",
       "    .dataframe tbody tr th:only-of-type {\n",
       "        vertical-align: middle;\n",
       "    }\n",
       "\n",
       "    .dataframe tbody tr th {\n",
       "        vertical-align: top;\n",
       "    }\n",
       "\n",
       "    .dataframe thead th {\n",
       "        text-align: right;\n",
       "    }\n",
       "</style>\n",
       "<table border=\"1\" class=\"dataframe\">\n",
       "  <thead>\n",
       "    <tr style=\"text-align: right;\">\n",
       "      <th></th>\n",
       "      <th>club_name</th>\n",
       "      <th>player_name</th>\n",
       "      <th>age</th>\n",
       "      <th>position</th>\n",
       "      <th>club_involved_name</th>\n",
       "      <th>fee</th>\n",
       "      <th>transfer_movement</th>\n",
       "      <th>fee_cleaned</th>\n",
       "      <th>league_name</th>\n",
       "      <th>year</th>\n",
       "      <th>season</th>\n",
       "    </tr>\n",
       "  </thead>\n",
       "  <tbody>\n",
       "    <tr>\n",
       "      <th>0</th>\n",
       "      <td>Hull City</td>\n",
       "      <td>Kevin Stewart</td>\n",
       "      <td>23</td>\n",
       "      <td>Defensive Midfield</td>\n",
       "      <td>Liverpool</td>\n",
       "      <td>£4.05m</td>\n",
       "      <td>in</td>\n",
       "      <td>4.05</td>\n",
       "      <td>Championship</td>\n",
       "      <td>2017</td>\n",
       "      <td>2017/2018</td>\n",
       "    </tr>\n",
       "    <tr>\n",
       "      <th>1</th>\n",
       "      <td>Hull City</td>\n",
       "      <td>Nouha Dicko</td>\n",
       "      <td>25</td>\n",
       "      <td>Centre-Forward</td>\n",
       "      <td>Wolves</td>\n",
       "      <td>£3.42m</td>\n",
       "      <td>in</td>\n",
       "      <td>3.42</td>\n",
       "      <td>Championship</td>\n",
       "      <td>2017</td>\n",
       "      <td>2017/2018</td>\n",
       "    </tr>\n",
       "    <tr>\n",
       "      <th>2</th>\n",
       "      <td>Hull City</td>\n",
       "      <td>Jon Toral</td>\n",
       "      <td>22</td>\n",
       "      <td>Attacking Midfield</td>\n",
       "      <td>Arsenal U23</td>\n",
       "      <td>£2.97m</td>\n",
       "      <td>in</td>\n",
       "      <td>2.97</td>\n",
       "      <td>Championship</td>\n",
       "      <td>2017</td>\n",
       "      <td>2017/2018</td>\n",
       "    </tr>\n",
       "    <tr>\n",
       "      <th>3</th>\n",
       "      <td>Hull City</td>\n",
       "      <td>Stephen Kingsley</td>\n",
       "      <td>23</td>\n",
       "      <td>Left-Back</td>\n",
       "      <td>Swansea</td>\n",
       "      <td>£2.97m</td>\n",
       "      <td>in</td>\n",
       "      <td>2.97</td>\n",
       "      <td>Championship</td>\n",
       "      <td>2017</td>\n",
       "      <td>2017/2018</td>\n",
       "    </tr>\n",
       "    <tr>\n",
       "      <th>4</th>\n",
       "      <td>Hull City</td>\n",
       "      <td>Jackson Irvine</td>\n",
       "      <td>24</td>\n",
       "      <td>Defensive Midfield</td>\n",
       "      <td>Burton Albion</td>\n",
       "      <td>£1.94m</td>\n",
       "      <td>in</td>\n",
       "      <td>1.94</td>\n",
       "      <td>Championship</td>\n",
       "      <td>2017</td>\n",
       "      <td>2017/2018</td>\n",
       "    </tr>\n",
       "  </tbody>\n",
       "</table>\n",
       "</div>"
      ],
      "text/plain": [
       "   club_name       player_name  age            position club_involved_name  \\\n",
       "0  Hull City     Kevin Stewart   23  Defensive Midfield          Liverpool   \n",
       "1  Hull City       Nouha Dicko   25      Centre-Forward             Wolves   \n",
       "2  Hull City         Jon Toral   22  Attacking Midfield        Arsenal U23   \n",
       "3  Hull City  Stephen Kingsley   23           Left-Back            Swansea   \n",
       "4  Hull City    Jackson Irvine   24  Defensive Midfield      Burton Albion   \n",
       "\n",
       "      fee transfer_movement  fee_cleaned   league_name  year     season  \n",
       "0  £4.05m                in         4.05  Championship  2017  2017/2018  \n",
       "1  £3.42m                in         3.42  Championship  2017  2017/2018  \n",
       "2  £2.97m                in         2.97  Championship  2017  2017/2018  \n",
       "3  £2.97m                in         2.97  Championship  2017  2017/2018  \n",
       "4  £1.94m                in         1.94  Championship  2017  2017/2018  "
      ]
     },
     "execution_count": 32,
     "metadata": {},
     "output_type": "execute_result"
    }
   ],
   "source": [
    "ec_2017.head()"
   ]
  },
  {
   "cell_type": "code",
   "execution_count": 33,
   "metadata": {},
   "outputs": [
    {
     "data": {
      "text/plain": [
       "Index(['club_name', 'player_name', 'age', 'position', 'club_involved_name',\n",
       "       'fee', 'transfer_movement', 'fee_cleaned', 'league_name', 'year',\n",
       "       'season'],\n",
       "      dtype='object')"
      ]
     },
     "execution_count": 33,
     "metadata": {},
     "output_type": "execute_result"
    }
   ],
   "source": [
    "ec_2017.columns"
   ]
  },
  {
   "cell_type": "code",
   "execution_count": 34,
   "metadata": {},
   "outputs": [
    {
     "data": {
      "text/plain": [
       "club_name              object\n",
       "player_name            object\n",
       "age                     int64\n",
       "position               object\n",
       "club_involved_name     object\n",
       "fee                    object\n",
       "transfer_movement      object\n",
       "fee_cleaned           float64\n",
       "league_name            object\n",
       "year                    int64\n",
       "season                 object\n",
       "dtype: object"
      ]
     },
     "execution_count": 34,
     "metadata": {},
     "output_type": "execute_result"
    }
   ],
   "source": [
    "ec_2017.dtypes"
   ]
  },
  {
   "cell_type": "code",
   "execution_count": 35,
   "metadata": {},
   "outputs": [
    {
     "name": "stdout",
     "output_type": "stream",
     "text": [
      "<class 'pandas.core.frame.DataFrame'>\n",
      "RangeIndex: 1156 entries, 0 to 1155\n",
      "Data columns (total 11 columns):\n",
      " #   Column              Non-Null Count  Dtype  \n",
      "---  ------              --------------  -----  \n",
      " 0   club_name           1156 non-null   object \n",
      " 1   player_name         1156 non-null   object \n",
      " 2   age                 1156 non-null   int64  \n",
      " 3   position            1156 non-null   object \n",
      " 4   club_involved_name  1156 non-null   object \n",
      " 5   fee                 1156 non-null   object \n",
      " 6   transfer_movement   1156 non-null   object \n",
      " 7   fee_cleaned         1089 non-null   float64\n",
      " 8   league_name         1156 non-null   object \n",
      " 9   year                1156 non-null   int64  \n",
      " 10  season              1156 non-null   object \n",
      "dtypes: float64(1), int64(2), object(8)\n",
      "memory usage: 99.5+ KB\n"
     ]
    }
   ],
   "source": [
    "ec_2017.info()"
   ]
  },
  {
   "cell_type": "code",
   "execution_count": 36,
   "metadata": {},
   "outputs": [
    {
     "data": {
      "text/plain": [
       "(1156, 11)"
      ]
     },
     "execution_count": 36,
     "metadata": {},
     "output_type": "execute_result"
    }
   ],
   "source": [
    "ec_2017.shape"
   ]
  },
  {
   "cell_type": "code",
   "execution_count": 37,
   "metadata": {},
   "outputs": [
    {
     "data": {
      "text/plain": [
       "club_name              24\n",
       "player_name           688\n",
       "age                    22\n",
       "position               15\n",
       "club_involved_name    319\n",
       "fee                   144\n",
       "transfer_movement       2\n",
       "fee_cleaned            88\n",
       "league_name             1\n",
       "year                    1\n",
       "season                  1\n",
       "dtype: int64"
      ]
     },
     "execution_count": 37,
     "metadata": {},
     "output_type": "execute_result"
    }
   ],
   "source": [
    "ec_2017.nunique()"
   ]
  },
  {
   "cell_type": "code",
   "execution_count": 38,
   "metadata": {},
   "outputs": [
    {
     "data": {
      "text/plain": [
       "Barnsley FC                71\n",
       "Wolverhampton Wanderers    67\n",
       "Nottingham Forest          64\n",
       "Norwich City               62\n",
       "Cardiff City               58\n",
       "Leeds United               57\n",
       "Birmingham City            56\n",
       "Middlesbrough FC           55\n",
       "Hull City                  53\n",
       "Burton Albion              51\n",
       "Millwall FC                50\n",
       "Bristol City               47\n",
       "Sunderland AFC             47\n",
       "Fulham FC                  47\n",
       "Sheffield United           45\n",
       "Bolton Wanderers           44\n",
       "Reading FC                 43\n",
       "Ipswich Town               43\n",
       "Queens Park Rangers        36\n",
       "Aston Villa                36\n",
       "Derby County               36\n",
       "Preston North End          33\n",
       "Sheffield Wednesday        28\n",
       "Brentford FC               27\n",
       "Name: club_name, dtype: int64"
      ]
     },
     "execution_count": 38,
     "metadata": {},
     "output_type": "execute_result"
    }
   ],
   "source": [
    "ec_2017.club_name.value_counts()"
   ]
  },
  {
   "cell_type": "code",
   "execution_count": 39,
   "metadata": {},
   "outputs": [
    {
     "data": {
      "text/html": [
       "<div>\n",
       "<style scoped>\n",
       "    .dataframe tbody tr th:only-of-type {\n",
       "        vertical-align: middle;\n",
       "    }\n",
       "\n",
       "    .dataframe tbody tr th {\n",
       "        vertical-align: top;\n",
       "    }\n",
       "\n",
       "    .dataframe thead th {\n",
       "        text-align: right;\n",
       "    }\n",
       "</style>\n",
       "<table border=\"1\" class=\"dataframe\">\n",
       "  <thead>\n",
       "    <tr style=\"text-align: right;\">\n",
       "      <th></th>\n",
       "      <th>min</th>\n",
       "      <th>max</th>\n",
       "    </tr>\n",
       "  </thead>\n",
       "  <tbody>\n",
       "    <tr>\n",
       "      <th>club_name</th>\n",
       "      <td>Aston Villa</td>\n",
       "      <td>Wolverhampton Wanderers</td>\n",
       "    </tr>\n",
       "    <tr>\n",
       "      <th>player_name</th>\n",
       "      <td>Aapo Halme</td>\n",
       "      <td>Álvaro Negredo</td>\n",
       "    </tr>\n",
       "    <tr>\n",
       "      <th>age</th>\n",
       "      <td>17</td>\n",
       "      <td>38</td>\n",
       "    </tr>\n",
       "    <tr>\n",
       "      <th>position</th>\n",
       "      <td>Attacking Midfield</td>\n",
       "      <td>Second Striker</td>\n",
       "    </tr>\n",
       "    <tr>\n",
       "      <th>club_involved_name</th>\n",
       "      <td>1.FSV Mainz 05</td>\n",
       "      <td>Zulte Waregem</td>\n",
       "    </tr>\n",
       "    <tr>\n",
       "      <th>fee</th>\n",
       "      <td>-</td>\n",
       "      <td>£990k</td>\n",
       "    </tr>\n",
       "    <tr>\n",
       "      <th>transfer_movement</th>\n",
       "      <td>in</td>\n",
       "      <td>out</td>\n",
       "    </tr>\n",
       "    <tr>\n",
       "      <th>fee_cleaned</th>\n",
       "      <td>0</td>\n",
       "      <td>25.65</td>\n",
       "    </tr>\n",
       "    <tr>\n",
       "      <th>league_name</th>\n",
       "      <td>Championship</td>\n",
       "      <td>Championship</td>\n",
       "    </tr>\n",
       "    <tr>\n",
       "      <th>year</th>\n",
       "      <td>2017</td>\n",
       "      <td>2017</td>\n",
       "    </tr>\n",
       "    <tr>\n",
       "      <th>season</th>\n",
       "      <td>2017/2018</td>\n",
       "      <td>2017/2018</td>\n",
       "    </tr>\n",
       "  </tbody>\n",
       "</table>\n",
       "</div>"
      ],
      "text/plain": [
       "                                   min                      max\n",
       "club_name                  Aston Villa  Wolverhampton Wanderers\n",
       "player_name                 Aapo Halme           Álvaro Negredo\n",
       "age                                 17                       38\n",
       "position            Attacking Midfield           Second Striker\n",
       "club_involved_name      1.FSV Mainz 05            Zulte Waregem\n",
       "fee                                  -                    £990k\n",
       "transfer_movement                   in                      out\n",
       "fee_cleaned                          0                    25.65\n",
       "league_name               Championship             Championship\n",
       "year                              2017                     2017\n",
       "season                       2017/2018                2017/2018"
      ]
     },
     "execution_count": 39,
     "metadata": {},
     "output_type": "execute_result"
    }
   ],
   "source": [
    "ec_2017.agg([min, max]).T"
   ]
  },
  {
   "cell_type": "code",
   "execution_count": 40,
   "metadata": {},
   "outputs": [
    {
     "data": {
      "text/html": [
       "<div>\n",
       "<style scoped>\n",
       "    .dataframe tbody tr th:only-of-type {\n",
       "        vertical-align: middle;\n",
       "    }\n",
       "\n",
       "    .dataframe tbody tr th {\n",
       "        vertical-align: top;\n",
       "    }\n",
       "\n",
       "    .dataframe thead th {\n",
       "        text-align: right;\n",
       "    }\n",
       "</style>\n",
       "<table border=\"1\" class=\"dataframe\">\n",
       "  <thead>\n",
       "    <tr style=\"text-align: right;\">\n",
       "      <th></th>\n",
       "      <th>percent</th>\n",
       "    </tr>\n",
       "  </thead>\n",
       "  <tbody>\n",
       "    <tr>\n",
       "      <th>fee_cleaned</th>\n",
       "      <td>0.057958</td>\n",
       "    </tr>\n",
       "  </tbody>\n",
       "</table>\n",
       "</div>"
      ],
      "text/plain": [
       "              percent\n",
       "fee_cleaned  0.057958"
      ]
     },
     "execution_count": 40,
     "metadata": {},
     "output_type": "execute_result"
    }
   ],
   "source": [
    "nulls = pd.DataFrame(ec_2017.isnull().sum().sort_values(ascending=False)/len(ec_2017), columns = ['percent'])\n",
    "percent_null = nulls['percent'] > 0\n",
    "nulls[percent_null]"
   ]
  },
  {
   "cell_type": "code",
   "execution_count": 41,
   "metadata": {},
   "outputs": [],
   "source": [
    "ec_2017.fee_cleaned.fillna(0, inplace=True)"
   ]
  },
  {
   "cell_type": "code",
   "execution_count": 42,
   "metadata": {},
   "outputs": [
    {
     "data": {
      "text/html": [
       "<div>\n",
       "<style scoped>\n",
       "    .dataframe tbody tr th:only-of-type {\n",
       "        vertical-align: middle;\n",
       "    }\n",
       "\n",
       "    .dataframe tbody tr th {\n",
       "        vertical-align: top;\n",
       "    }\n",
       "\n",
       "    .dataframe thead th {\n",
       "        text-align: right;\n",
       "    }\n",
       "</style>\n",
       "<table border=\"1\" class=\"dataframe\">\n",
       "  <thead>\n",
       "    <tr style=\"text-align: right;\">\n",
       "      <th></th>\n",
       "      <th>club_name</th>\n",
       "      <th>player_name</th>\n",
       "      <th>age</th>\n",
       "      <th>position</th>\n",
       "      <th>club_involved_name</th>\n",
       "      <th>fee</th>\n",
       "      <th>transfer_movement</th>\n",
       "      <th>fee_cleaned</th>\n",
       "      <th>league_name</th>\n",
       "      <th>year</th>\n",
       "      <th>season</th>\n",
       "    </tr>\n",
       "  </thead>\n",
       "  <tbody>\n",
       "    <tr>\n",
       "      <th>481</th>\n",
       "      <td>Preston North End</td>\n",
       "      <td>Eoin Doyle</td>\n",
       "      <td>29</td>\n",
       "      <td>Centre-Forward</td>\n",
       "      <td>Oldham Athletic</td>\n",
       "      <td>Loan</td>\n",
       "      <td>out</td>\n",
       "      <td>0.0</td>\n",
       "      <td>Championship</td>\n",
       "      <td>2017</td>\n",
       "      <td>2017/2018</td>\n",
       "    </tr>\n",
       "    <tr>\n",
       "      <th>797</th>\n",
       "      <td>Bristol City</td>\n",
       "      <td>Max O'Leary</td>\n",
       "      <td>21</td>\n",
       "      <td>Goalkeeper</td>\n",
       "      <td>Solihull Moors</td>\n",
       "      <td>Loan</td>\n",
       "      <td>out</td>\n",
       "      <td>0.0</td>\n",
       "      <td>Championship</td>\n",
       "      <td>2017</td>\n",
       "      <td>2017/2018</td>\n",
       "    </tr>\n",
       "  </tbody>\n",
       "</table>\n",
       "</div>"
      ],
      "text/plain": [
       "             club_name  player_name  age        position club_involved_name  \\\n",
       "481  Preston North End   Eoin Doyle   29  Centre-Forward    Oldham Athletic   \n",
       "797       Bristol City  Max O'Leary   21      Goalkeeper     Solihull Moors   \n",
       "\n",
       "      fee transfer_movement  fee_cleaned   league_name  year     season  \n",
       "481  Loan               out          0.0  Championship  2017  2017/2018  \n",
       "797  Loan               out          0.0  Championship  2017  2017/2018  "
      ]
     },
     "execution_count": 42,
     "metadata": {},
     "output_type": "execute_result"
    }
   ],
   "source": [
    "duplicateRowsDF_2017 = ec_2017[ec_2017.duplicated()]\n",
    "duplicateRowsDF_2017\n",
    "# Same as 2018. I'll leave them for now and ensure later that they are 'double loans' in a season"
   ]
  },
  {
   "cell_type": "code",
   "execution_count": 43,
   "metadata": {},
   "outputs": [],
   "source": [
    "ec_2017.to_csv(\"/home/tdraths/sb_assignments/Transfers_Capstone/data/data_cleaning_outputs/english_championship_2017_output.csv\")"
   ]
  },
  {
   "cell_type": "markdown",
   "metadata": {},
   "source": [
    "### V. Reading CSV into Dataframe\n",
    " - Transfer data for the 2016 season of the English Championship\n",
    " - Data source: https://github.com/ewenme/transfers"
   ]
  },
  {
   "cell_type": "code",
   "execution_count": 44,
   "metadata": {},
   "outputs": [],
   "source": [
    "ec_2016 = pd.read_csv(\"/home/tdraths/sb_assignments/Transfers_Capstone/data/original_data_sources/english_championship_2016.csv\")"
   ]
  },
  {
   "cell_type": "code",
   "execution_count": 45,
   "metadata": {},
   "outputs": [
    {
     "data": {
      "text/html": [
       "<div>\n",
       "<style scoped>\n",
       "    .dataframe tbody tr th:only-of-type {\n",
       "        vertical-align: middle;\n",
       "    }\n",
       "\n",
       "    .dataframe tbody tr th {\n",
       "        vertical-align: top;\n",
       "    }\n",
       "\n",
       "    .dataframe thead th {\n",
       "        text-align: right;\n",
       "    }\n",
       "</style>\n",
       "<table border=\"1\" class=\"dataframe\">\n",
       "  <thead>\n",
       "    <tr style=\"text-align: right;\">\n",
       "      <th></th>\n",
       "      <th>club_name</th>\n",
       "      <th>player_name</th>\n",
       "      <th>age</th>\n",
       "      <th>position</th>\n",
       "      <th>club_involved_name</th>\n",
       "      <th>fee</th>\n",
       "      <th>transfer_movement</th>\n",
       "      <th>fee_cleaned</th>\n",
       "      <th>league_name</th>\n",
       "      <th>year</th>\n",
       "      <th>season</th>\n",
       "    </tr>\n",
       "  </thead>\n",
       "  <tbody>\n",
       "    <tr>\n",
       "      <th>0</th>\n",
       "      <td>Newcastle United</td>\n",
       "      <td>Dwight Gayle</td>\n",
       "      <td>25</td>\n",
       "      <td>Centre-Forward</td>\n",
       "      <td>Crystal Palace</td>\n",
       "      <td>£10.80m</td>\n",
       "      <td>in</td>\n",
       "      <td>10.80</td>\n",
       "      <td>Championship</td>\n",
       "      <td>2016</td>\n",
       "      <td>2016/2017</td>\n",
       "    </tr>\n",
       "    <tr>\n",
       "      <th>1</th>\n",
       "      <td>Newcastle United</td>\n",
       "      <td>Matt Ritchie</td>\n",
       "      <td>26</td>\n",
       "      <td>Right Midfield</td>\n",
       "      <td>Bournemouth</td>\n",
       "      <td>£10.80m</td>\n",
       "      <td>in</td>\n",
       "      <td>10.80</td>\n",
       "      <td>Championship</td>\n",
       "      <td>2016</td>\n",
       "      <td>2016/2017</td>\n",
       "    </tr>\n",
       "    <tr>\n",
       "      <th>2</th>\n",
       "      <td>Newcastle United</td>\n",
       "      <td>Matz Sels</td>\n",
       "      <td>24</td>\n",
       "      <td>Goalkeeper</td>\n",
       "      <td>KAA Gent</td>\n",
       "      <td>£5.94m</td>\n",
       "      <td>in</td>\n",
       "      <td>5.94</td>\n",
       "      <td>Championship</td>\n",
       "      <td>2016</td>\n",
       "      <td>2016/2017</td>\n",
       "    </tr>\n",
       "    <tr>\n",
       "      <th>3</th>\n",
       "      <td>Newcastle United</td>\n",
       "      <td>Grant Hanley</td>\n",
       "      <td>24</td>\n",
       "      <td>Centre-Back</td>\n",
       "      <td>Blackburn</td>\n",
       "      <td>£5.94m</td>\n",
       "      <td>in</td>\n",
       "      <td>5.94</td>\n",
       "      <td>Championship</td>\n",
       "      <td>2016</td>\n",
       "      <td>2016/2017</td>\n",
       "    </tr>\n",
       "    <tr>\n",
       "      <th>4</th>\n",
       "      <td>Newcastle United</td>\n",
       "      <td>Ciaran Clark</td>\n",
       "      <td>26</td>\n",
       "      <td>Centre-Back</td>\n",
       "      <td>Aston Villa</td>\n",
       "      <td>£5.40m</td>\n",
       "      <td>in</td>\n",
       "      <td>5.40</td>\n",
       "      <td>Championship</td>\n",
       "      <td>2016</td>\n",
       "      <td>2016/2017</td>\n",
       "    </tr>\n",
       "  </tbody>\n",
       "</table>\n",
       "</div>"
      ],
      "text/plain": [
       "          club_name   player_name  age        position club_involved_name  \\\n",
       "0  Newcastle United  Dwight Gayle   25  Centre-Forward     Crystal Palace   \n",
       "1  Newcastle United  Matt Ritchie   26  Right Midfield        Bournemouth   \n",
       "2  Newcastle United     Matz Sels   24      Goalkeeper           KAA Gent   \n",
       "3  Newcastle United  Grant Hanley   24     Centre-Back          Blackburn   \n",
       "4  Newcastle United  Ciaran Clark   26     Centre-Back        Aston Villa   \n",
       "\n",
       "       fee transfer_movement  fee_cleaned   league_name  year     season  \n",
       "0  £10.80m                in        10.80  Championship  2016  2016/2017  \n",
       "1  £10.80m                in        10.80  Championship  2016  2016/2017  \n",
       "2   £5.94m                in         5.94  Championship  2016  2016/2017  \n",
       "3   £5.94m                in         5.94  Championship  2016  2016/2017  \n",
       "4   £5.40m                in         5.40  Championship  2016  2016/2017  "
      ]
     },
     "execution_count": 45,
     "metadata": {},
     "output_type": "execute_result"
    }
   ],
   "source": [
    "ec_2016.head()"
   ]
  },
  {
   "cell_type": "code",
   "execution_count": 46,
   "metadata": {},
   "outputs": [
    {
     "data": {
      "text/plain": [
       "Index(['club_name', 'player_name', 'age', 'position', 'club_involved_name',\n",
       "       'fee', 'transfer_movement', 'fee_cleaned', 'league_name', 'year',\n",
       "       'season'],\n",
       "      dtype='object')"
      ]
     },
     "execution_count": 46,
     "metadata": {},
     "output_type": "execute_result"
    }
   ],
   "source": [
    "ec_2016.columns"
   ]
  },
  {
   "cell_type": "code",
   "execution_count": 47,
   "metadata": {},
   "outputs": [
    {
     "data": {
      "text/plain": [
       "club_name              object\n",
       "player_name            object\n",
       "age                     int64\n",
       "position               object\n",
       "club_involved_name     object\n",
       "fee                    object\n",
       "transfer_movement      object\n",
       "fee_cleaned           float64\n",
       "league_name            object\n",
       "year                    int64\n",
       "season                 object\n",
       "dtype: object"
      ]
     },
     "execution_count": 47,
     "metadata": {},
     "output_type": "execute_result"
    }
   ],
   "source": [
    "ec_2016.dtypes"
   ]
  },
  {
   "cell_type": "code",
   "execution_count": 48,
   "metadata": {},
   "outputs": [
    {
     "name": "stdout",
     "output_type": "stream",
     "text": [
      "<class 'pandas.core.frame.DataFrame'>\n",
      "RangeIndex: 1203 entries, 0 to 1202\n",
      "Data columns (total 11 columns):\n",
      " #   Column              Non-Null Count  Dtype  \n",
      "---  ------              --------------  -----  \n",
      " 0   club_name           1203 non-null   object \n",
      " 1   player_name         1203 non-null   object \n",
      " 2   age                 1203 non-null   int64  \n",
      " 3   position            1203 non-null   object \n",
      " 4   club_involved_name  1203 non-null   object \n",
      " 5   fee                 1203 non-null   object \n",
      " 6   transfer_movement   1203 non-null   object \n",
      " 7   fee_cleaned         1117 non-null   float64\n",
      " 8   league_name         1203 non-null   object \n",
      " 9   year                1203 non-null   int64  \n",
      " 10  season              1203 non-null   object \n",
      "dtypes: float64(1), int64(2), object(8)\n",
      "memory usage: 103.5+ KB\n"
     ]
    }
   ],
   "source": [
    "ec_2016.info()"
   ]
  },
  {
   "cell_type": "code",
   "execution_count": 49,
   "metadata": {},
   "outputs": [
    {
     "data": {
      "text/plain": [
       "(1203, 11)"
      ]
     },
     "execution_count": 49,
     "metadata": {},
     "output_type": "execute_result"
    }
   ],
   "source": [
    "ec_2016.shape"
   ]
  },
  {
   "cell_type": "code",
   "execution_count": 50,
   "metadata": {},
   "outputs": [
    {
     "data": {
      "text/plain": [
       "club_name              24\n",
       "player_name           725\n",
       "age                    23\n",
       "position               15\n",
       "club_involved_name    341\n",
       "fee                   153\n",
       "transfer_movement       2\n",
       "fee_cleaned            95\n",
       "league_name             1\n",
       "year                    1\n",
       "season                  1\n",
       "dtype: int64"
      ]
     },
     "execution_count": 50,
     "metadata": {},
     "output_type": "execute_result"
    }
   ],
   "source": [
    "ec_2016.nunique()"
   ]
  },
  {
   "cell_type": "code",
   "execution_count": 51,
   "metadata": {},
   "outputs": [
    {
     "data": {
      "text/plain": [
       "Wigan Athletic             82\n",
       "Barnsley FC                66\n",
       "Fulham FC                  62\n",
       "Reading FC                 60\n",
       "Queens Park Rangers        60\n",
       "Rotherham United           58\n",
       "Cardiff City               58\n",
       "Nottingham Forest          57\n",
       "Birmingham City            57\n",
       "Burton Albion              57\n",
       "Wolverhampton Wanderers    54\n",
       "Bristol City               52\n",
       "Aston Villa                49\n",
       "Newcastle United           49\n",
       "Leeds United               45\n",
       "Blackburn Rovers           44\n",
       "Brighton & Hove Albion     42\n",
       "Huddersfield Town          42\n",
       "Sheffield Wednesday        41\n",
       "Preston North End          39\n",
       "Norwich City               36\n",
       "Derby County               36\n",
       "Ipswich Town               33\n",
       "Brentford FC               24\n",
       "Name: club_name, dtype: int64"
      ]
     },
     "execution_count": 51,
     "metadata": {},
     "output_type": "execute_result"
    }
   ],
   "source": [
    "ec_2016.club_name.value_counts()"
   ]
  },
  {
   "cell_type": "code",
   "execution_count": 52,
   "metadata": {},
   "outputs": [
    {
     "data": {
      "text/html": [
       "<div>\n",
       "<style scoped>\n",
       "    .dataframe tbody tr th:only-of-type {\n",
       "        vertical-align: middle;\n",
       "    }\n",
       "\n",
       "    .dataframe tbody tr th {\n",
       "        vertical-align: top;\n",
       "    }\n",
       "\n",
       "    .dataframe thead th {\n",
       "        text-align: right;\n",
       "    }\n",
       "</style>\n",
       "<table border=\"1\" class=\"dataframe\">\n",
       "  <thead>\n",
       "    <tr style=\"text-align: right;\">\n",
       "      <th></th>\n",
       "      <th>min</th>\n",
       "      <th>max</th>\n",
       "    </tr>\n",
       "  </thead>\n",
       "  <tbody>\n",
       "    <tr>\n",
       "      <th>club_name</th>\n",
       "      <td>Aston Villa</td>\n",
       "      <td>Wolverhampton Wanderers</td>\n",
       "    </tr>\n",
       "    <tr>\n",
       "      <th>player_name</th>\n",
       "      <td>Aaron Collins</td>\n",
       "      <td>Álex López</td>\n",
       "    </tr>\n",
       "    <tr>\n",
       "      <th>age</th>\n",
       "      <td>16</td>\n",
       "      <td>38</td>\n",
       "    </tr>\n",
       "    <tr>\n",
       "      <th>position</th>\n",
       "      <td>Attacking Midfield</td>\n",
       "      <td>Second Striker</td>\n",
       "    </tr>\n",
       "    <tr>\n",
       "      <th>club_involved_name</th>\n",
       "      <td>1.FC K'lautern</td>\n",
       "      <td>York City</td>\n",
       "    </tr>\n",
       "    <tr>\n",
       "      <th>fee</th>\n",
       "      <td>-</td>\n",
       "      <td>£900k</td>\n",
       "    </tr>\n",
       "    <tr>\n",
       "      <th>transfer_movement</th>\n",
       "      <td>in</td>\n",
       "      <td>out</td>\n",
       "    </tr>\n",
       "    <tr>\n",
       "      <th>fee_cleaned</th>\n",
       "      <td>0</td>\n",
       "      <td>31.5</td>\n",
       "    </tr>\n",
       "    <tr>\n",
       "      <th>league_name</th>\n",
       "      <td>Championship</td>\n",
       "      <td>Championship</td>\n",
       "    </tr>\n",
       "    <tr>\n",
       "      <th>year</th>\n",
       "      <td>2016</td>\n",
       "      <td>2016</td>\n",
       "    </tr>\n",
       "    <tr>\n",
       "      <th>season</th>\n",
       "      <td>2016/2017</td>\n",
       "      <td>2016/2017</td>\n",
       "    </tr>\n",
       "  </tbody>\n",
       "</table>\n",
       "</div>"
      ],
      "text/plain": [
       "                                   min                      max\n",
       "club_name                  Aston Villa  Wolverhampton Wanderers\n",
       "player_name              Aaron Collins               Álex López\n",
       "age                                 16                       38\n",
       "position            Attacking Midfield           Second Striker\n",
       "club_involved_name      1.FC K'lautern                York City\n",
       "fee                                  -                    £900k\n",
       "transfer_movement                   in                      out\n",
       "fee_cleaned                          0                     31.5\n",
       "league_name               Championship             Championship\n",
       "year                              2016                     2016\n",
       "season                       2016/2017                2016/2017"
      ]
     },
     "execution_count": 52,
     "metadata": {},
     "output_type": "execute_result"
    }
   ],
   "source": [
    "ec_2016.agg([min, max]).T"
   ]
  },
  {
   "cell_type": "code",
   "execution_count": 53,
   "metadata": {},
   "outputs": [
    {
     "data": {
      "text/html": [
       "<div>\n",
       "<style scoped>\n",
       "    .dataframe tbody tr th:only-of-type {\n",
       "        vertical-align: middle;\n",
       "    }\n",
       "\n",
       "    .dataframe tbody tr th {\n",
       "        vertical-align: top;\n",
       "    }\n",
       "\n",
       "    .dataframe thead th {\n",
       "        text-align: right;\n",
       "    }\n",
       "</style>\n",
       "<table border=\"1\" class=\"dataframe\">\n",
       "  <thead>\n",
       "    <tr style=\"text-align: right;\">\n",
       "      <th></th>\n",
       "      <th>percent</th>\n",
       "    </tr>\n",
       "  </thead>\n",
       "  <tbody>\n",
       "    <tr>\n",
       "      <th>fee_cleaned</th>\n",
       "      <td>0.071488</td>\n",
       "    </tr>\n",
       "  </tbody>\n",
       "</table>\n",
       "</div>"
      ],
      "text/plain": [
       "              percent\n",
       "fee_cleaned  0.071488"
      ]
     },
     "execution_count": 53,
     "metadata": {},
     "output_type": "execute_result"
    }
   ],
   "source": [
    "nulls = pd.DataFrame(ec_2016.isnull().sum().sort_values(ascending=False)/len(ec_2016), columns = ['percent'])\n",
    "percent_null = nulls['percent'] > 0\n",
    "nulls[percent_null]"
   ]
  },
  {
   "cell_type": "code",
   "execution_count": 54,
   "metadata": {},
   "outputs": [],
   "source": [
    "ec_2016.fee_cleaned.fillna(0, inplace=True)"
   ]
  },
  {
   "cell_type": "code",
   "execution_count": 55,
   "metadata": {},
   "outputs": [
    {
     "data": {
      "text/html": [
       "<div>\n",
       "<style scoped>\n",
       "    .dataframe tbody tr th:only-of-type {\n",
       "        vertical-align: middle;\n",
       "    }\n",
       "\n",
       "    .dataframe tbody tr th {\n",
       "        vertical-align: top;\n",
       "    }\n",
       "\n",
       "    .dataframe thead th {\n",
       "        text-align: right;\n",
       "    }\n",
       "</style>\n",
       "<table border=\"1\" class=\"dataframe\">\n",
       "  <thead>\n",
       "    <tr style=\"text-align: right;\">\n",
       "      <th></th>\n",
       "      <th>club_name</th>\n",
       "      <th>player_name</th>\n",
       "      <th>age</th>\n",
       "      <th>position</th>\n",
       "      <th>club_involved_name</th>\n",
       "      <th>fee</th>\n",
       "      <th>transfer_movement</th>\n",
       "      <th>fee_cleaned</th>\n",
       "      <th>league_name</th>\n",
       "      <th>year</th>\n",
       "      <th>season</th>\n",
       "    </tr>\n",
       "  </thead>\n",
       "  <tbody>\n",
       "    <tr>\n",
       "      <th>634</th>\n",
       "      <td>Blackburn Rovers</td>\n",
       "      <td>Marvin Emnes</td>\n",
       "      <td>28</td>\n",
       "      <td>Centre-Forward</td>\n",
       "      <td>Swansea</td>\n",
       "      <td>Loan</td>\n",
       "      <td>in</td>\n",
       "      <td>0.0</td>\n",
       "      <td>Championship</td>\n",
       "      <td>2016</td>\n",
       "      <td>2016/2017</td>\n",
       "    </tr>\n",
       "  </tbody>\n",
       "</table>\n",
       "</div>"
      ],
      "text/plain": [
       "            club_name   player_name  age        position club_involved_name  \\\n",
       "634  Blackburn Rovers  Marvin Emnes   28  Centre-Forward            Swansea   \n",
       "\n",
       "      fee transfer_movement  fee_cleaned   league_name  year     season  \n",
       "634  Loan                in          0.0  Championship  2016  2016/2017  "
      ]
     },
     "execution_count": 55,
     "metadata": {},
     "output_type": "execute_result"
    }
   ],
   "source": [
    "duplicateRowsDF_2016 = ec_2016[ec_2016.duplicated()]\n",
    "duplicateRowsDF_2016"
   ]
  },
  {
   "cell_type": "code",
   "execution_count": 56,
   "metadata": {},
   "outputs": [],
   "source": [
    "ec_2016.to_csv(\"/home/tdraths/sb_assignments/Transfers_Capstone/data/data_cleaning_outputs/english_championship_2016_output.csv\")"
   ]
  },
  {
   "cell_type": "code",
   "execution_count": 57,
   "metadata": {},
   "outputs": [
    {
     "data": {
      "text/plain": [
       "['english_championship_2019_output.csv',\n",
       " 'elc_spi_output.csv',\n",
       " 'english_championship_2018_output.csv',\n",
       " 'english_championship_2017_output.csv',\n",
       " 'english_championship_2016_output.csv']"
      ]
     },
     "execution_count": 57,
     "metadata": {},
     "output_type": "execute_result"
    }
   ],
   "source": [
    "os.listdir(\"/home/tdraths/sb_assignments/Transfers_Capstone/data/data_cleaning_outputs\")"
   ]
  },
  {
   "cell_type": "markdown",
   "metadata": {},
   "source": [
    "### VI. Reading SPI CSV into Dataframe\n",
    " - Match data from 2016 through 2020 used to determine Soccer Power Index (SPI) rankings\n",
    " - Data sourced from: https://github.com/fivethirtyeight/data/tree/master/soccer-spi"
   ]
  },
  {
   "cell_type": "code",
   "execution_count": 58,
   "metadata": {},
   "outputs": [],
   "source": [
    "os.chdir(\"/home/tdraths/sb_assignments/Transfers_Capstone/data/original_data_sources\")"
   ]
  },
  {
   "cell_type": "code",
   "execution_count": 59,
   "metadata": {},
   "outputs": [
    {
     "data": {
      "text/html": [
       "<div>\n",
       "<style scoped>\n",
       "    .dataframe tbody tr th:only-of-type {\n",
       "        vertical-align: middle;\n",
       "    }\n",
       "\n",
       "    .dataframe tbody tr th {\n",
       "        vertical-align: top;\n",
       "    }\n",
       "\n",
       "    .dataframe thead th {\n",
       "        text-align: right;\n",
       "    }\n",
       "</style>\n",
       "<table border=\"1\" class=\"dataframe\">\n",
       "  <thead>\n",
       "    <tr style=\"text-align: right;\">\n",
       "      <th></th>\n",
       "      <th>season</th>\n",
       "      <th>date</th>\n",
       "      <th>league_id</th>\n",
       "      <th>league</th>\n",
       "      <th>team1</th>\n",
       "      <th>team2</th>\n",
       "      <th>spi1</th>\n",
       "      <th>spi2</th>\n",
       "      <th>prob1</th>\n",
       "      <th>prob2</th>\n",
       "      <th>...</th>\n",
       "      <th>importance1</th>\n",
       "      <th>importance2</th>\n",
       "      <th>score1</th>\n",
       "      <th>score2</th>\n",
       "      <th>xg1</th>\n",
       "      <th>xg2</th>\n",
       "      <th>nsxg1</th>\n",
       "      <th>nsxg2</th>\n",
       "      <th>adj_score1</th>\n",
       "      <th>adj_score2</th>\n",
       "    </tr>\n",
       "  </thead>\n",
       "  <tbody>\n",
       "    <tr>\n",
       "      <th>0</th>\n",
       "      <td>2016</td>\n",
       "      <td>2016-07-09</td>\n",
       "      <td>7921</td>\n",
       "      <td>FA Women's Super League</td>\n",
       "      <td>Liverpool Women</td>\n",
       "      <td>Reading</td>\n",
       "      <td>51.56</td>\n",
       "      <td>50.42</td>\n",
       "      <td>0.4389</td>\n",
       "      <td>0.2767</td>\n",
       "      <td>...</td>\n",
       "      <td>NaN</td>\n",
       "      <td>NaN</td>\n",
       "      <td>2.0</td>\n",
       "      <td>0.0</td>\n",
       "      <td>NaN</td>\n",
       "      <td>NaN</td>\n",
       "      <td>NaN</td>\n",
       "      <td>NaN</td>\n",
       "      <td>NaN</td>\n",
       "      <td>NaN</td>\n",
       "    </tr>\n",
       "    <tr>\n",
       "      <th>1</th>\n",
       "      <td>2016</td>\n",
       "      <td>2016-07-10</td>\n",
       "      <td>7921</td>\n",
       "      <td>FA Women's Super League</td>\n",
       "      <td>Arsenal Women</td>\n",
       "      <td>Notts County Ladies</td>\n",
       "      <td>46.61</td>\n",
       "      <td>54.03</td>\n",
       "      <td>0.3572</td>\n",
       "      <td>0.3608</td>\n",
       "      <td>...</td>\n",
       "      <td>NaN</td>\n",
       "      <td>NaN</td>\n",
       "      <td>2.0</td>\n",
       "      <td>0.0</td>\n",
       "      <td>NaN</td>\n",
       "      <td>NaN</td>\n",
       "      <td>NaN</td>\n",
       "      <td>NaN</td>\n",
       "      <td>NaN</td>\n",
       "      <td>NaN</td>\n",
       "    </tr>\n",
       "    <tr>\n",
       "      <th>2</th>\n",
       "      <td>2016</td>\n",
       "      <td>2016-07-10</td>\n",
       "      <td>7921</td>\n",
       "      <td>FA Women's Super League</td>\n",
       "      <td>Chelsea FC Women</td>\n",
       "      <td>Birmingham City</td>\n",
       "      <td>59.85</td>\n",
       "      <td>54.64</td>\n",
       "      <td>0.4799</td>\n",
       "      <td>0.2487</td>\n",
       "      <td>...</td>\n",
       "      <td>NaN</td>\n",
       "      <td>NaN</td>\n",
       "      <td>1.0</td>\n",
       "      <td>1.0</td>\n",
       "      <td>NaN</td>\n",
       "      <td>NaN</td>\n",
       "      <td>NaN</td>\n",
       "      <td>NaN</td>\n",
       "      <td>NaN</td>\n",
       "      <td>NaN</td>\n",
       "    </tr>\n",
       "    <tr>\n",
       "      <th>3</th>\n",
       "      <td>2016</td>\n",
       "      <td>2016-07-16</td>\n",
       "      <td>7921</td>\n",
       "      <td>FA Women's Super League</td>\n",
       "      <td>Liverpool Women</td>\n",
       "      <td>Notts County Ladies</td>\n",
       "      <td>53.00</td>\n",
       "      <td>52.35</td>\n",
       "      <td>0.4289</td>\n",
       "      <td>0.2699</td>\n",
       "      <td>...</td>\n",
       "      <td>NaN</td>\n",
       "      <td>NaN</td>\n",
       "      <td>0.0</td>\n",
       "      <td>0.0</td>\n",
       "      <td>NaN</td>\n",
       "      <td>NaN</td>\n",
       "      <td>NaN</td>\n",
       "      <td>NaN</td>\n",
       "      <td>NaN</td>\n",
       "      <td>NaN</td>\n",
       "    </tr>\n",
       "    <tr>\n",
       "      <th>4</th>\n",
       "      <td>2016</td>\n",
       "      <td>2016-07-17</td>\n",
       "      <td>7921</td>\n",
       "      <td>FA Women's Super League</td>\n",
       "      <td>Chelsea FC Women</td>\n",
       "      <td>Arsenal Women</td>\n",
       "      <td>59.43</td>\n",
       "      <td>60.99</td>\n",
       "      <td>0.4124</td>\n",
       "      <td>0.3157</td>\n",
       "      <td>...</td>\n",
       "      <td>NaN</td>\n",
       "      <td>NaN</td>\n",
       "      <td>1.0</td>\n",
       "      <td>2.0</td>\n",
       "      <td>NaN</td>\n",
       "      <td>NaN</td>\n",
       "      <td>NaN</td>\n",
       "      <td>NaN</td>\n",
       "      <td>NaN</td>\n",
       "      <td>NaN</td>\n",
       "    </tr>\n",
       "  </tbody>\n",
       "</table>\n",
       "<p>5 rows × 23 columns</p>\n",
       "</div>"
      ],
      "text/plain": [
       "   season        date  league_id                   league             team1  \\\n",
       "0    2016  2016-07-09       7921  FA Women's Super League   Liverpool Women   \n",
       "1    2016  2016-07-10       7921  FA Women's Super League     Arsenal Women   \n",
       "2    2016  2016-07-10       7921  FA Women's Super League  Chelsea FC Women   \n",
       "3    2016  2016-07-16       7921  FA Women's Super League   Liverpool Women   \n",
       "4    2016  2016-07-17       7921  FA Women's Super League  Chelsea FC Women   \n",
       "\n",
       "                 team2   spi1   spi2   prob1   prob2  ...  importance1  \\\n",
       "0              Reading  51.56  50.42  0.4389  0.2767  ...          NaN   \n",
       "1  Notts County Ladies  46.61  54.03  0.3572  0.3608  ...          NaN   \n",
       "2      Birmingham City  59.85  54.64  0.4799  0.2487  ...          NaN   \n",
       "3  Notts County Ladies  53.00  52.35  0.4289  0.2699  ...          NaN   \n",
       "4        Arsenal Women  59.43  60.99  0.4124  0.3157  ...          NaN   \n",
       "\n",
       "   importance2  score1  score2  xg1  xg2  nsxg1  nsxg2  adj_score1  adj_score2  \n",
       "0          NaN     2.0     0.0  NaN  NaN    NaN    NaN         NaN         NaN  \n",
       "1          NaN     2.0     0.0  NaN  NaN    NaN    NaN         NaN         NaN  \n",
       "2          NaN     1.0     1.0  NaN  NaN    NaN    NaN         NaN         NaN  \n",
       "3          NaN     0.0     0.0  NaN  NaN    NaN    NaN         NaN         NaN  \n",
       "4          NaN     1.0     2.0  NaN  NaN    NaN    NaN         NaN         NaN  \n",
       "\n",
       "[5 rows x 23 columns]"
      ]
     },
     "execution_count": 59,
     "metadata": {},
     "output_type": "execute_result"
    }
   ],
   "source": [
    "spi_df = pd.read_csv('spi_matches.csv')\n",
    "spi_df.head()"
   ]
  },
  {
   "cell_type": "markdown",
   "metadata": {},
   "source": [
    " - Reading SPI csv into DataFrame\n",
    " - It contains match-specific data for every major soccer league in the world, going back to 2016\n",
    " - I'm only jusing English Championship data for now\n",
    " - I can imagine some usefulness in comparing EC transfer spending with PremLeague/LaLiga/etc spending"
   ]
  },
  {
   "cell_type": "code",
   "execution_count": 60,
   "metadata": {},
   "outputs": [
    {
     "data": {
      "text/html": [
       "<div>\n",
       "<style scoped>\n",
       "    .dataframe tbody tr th:only-of-type {\n",
       "        vertical-align: middle;\n",
       "    }\n",
       "\n",
       "    .dataframe tbody tr th {\n",
       "        vertical-align: top;\n",
       "    }\n",
       "\n",
       "    .dataframe thead th {\n",
       "        text-align: right;\n",
       "    }\n",
       "</style>\n",
       "<table border=\"1\" class=\"dataframe\">\n",
       "  <thead>\n",
       "    <tr style=\"text-align: right;\">\n",
       "      <th></th>\n",
       "      <th>season</th>\n",
       "      <th>date</th>\n",
       "      <th>league_id</th>\n",
       "      <th>league</th>\n",
       "      <th>team1</th>\n",
       "      <th>team2</th>\n",
       "      <th>spi1</th>\n",
       "      <th>spi2</th>\n",
       "      <th>prob1</th>\n",
       "      <th>prob2</th>\n",
       "      <th>...</th>\n",
       "      <th>importance1</th>\n",
       "      <th>importance2</th>\n",
       "      <th>score1</th>\n",
       "      <th>score2</th>\n",
       "      <th>xg1</th>\n",
       "      <th>xg2</th>\n",
       "      <th>nsxg1</th>\n",
       "      <th>nsxg2</th>\n",
       "      <th>adj_score1</th>\n",
       "      <th>adj_score2</th>\n",
       "    </tr>\n",
       "  </thead>\n",
       "  <tbody>\n",
       "    <tr>\n",
       "      <th>2992</th>\n",
       "      <td>2017</td>\n",
       "      <td>2017-08-04</td>\n",
       "      <td>2412</td>\n",
       "      <td>English League Championship</td>\n",
       "      <td>Sunderland</td>\n",
       "      <td>Derby County</td>\n",
       "      <td>50.39</td>\n",
       "      <td>40.83</td>\n",
       "      <td>0.5266</td>\n",
       "      <td>0.2184</td>\n",
       "      <td>...</td>\n",
       "      <td>NaN</td>\n",
       "      <td>NaN</td>\n",
       "      <td>1.0</td>\n",
       "      <td>1.0</td>\n",
       "      <td>2.24</td>\n",
       "      <td>1.23</td>\n",
       "      <td>1.92</td>\n",
       "      <td>1.38</td>\n",
       "      <td>1.05</td>\n",
       "      <td>1.05</td>\n",
       "    </tr>\n",
       "    <tr>\n",
       "      <th>2994</th>\n",
       "      <td>2017</td>\n",
       "      <td>2017-08-04</td>\n",
       "      <td>2412</td>\n",
       "      <td>English League Championship</td>\n",
       "      <td>Nottingham Forest</td>\n",
       "      <td>Millwall</td>\n",
       "      <td>35.55</td>\n",
       "      <td>28.23</td>\n",
       "      <td>0.5149</td>\n",
       "      <td>0.2186</td>\n",
       "      <td>...</td>\n",
       "      <td>NaN</td>\n",
       "      <td>NaN</td>\n",
       "      <td>1.0</td>\n",
       "      <td>0.0</td>\n",
       "      <td>0.45</td>\n",
       "      <td>3.49</td>\n",
       "      <td>1.26</td>\n",
       "      <td>2.73</td>\n",
       "      <td>1.05</td>\n",
       "      <td>0.00</td>\n",
       "    </tr>\n",
       "    <tr>\n",
       "      <th>3004</th>\n",
       "      <td>2017</td>\n",
       "      <td>2017-08-05</td>\n",
       "      <td>2412</td>\n",
       "      <td>English League Championship</td>\n",
       "      <td>Sheffield United</td>\n",
       "      <td>Brentford</td>\n",
       "      <td>27.72</td>\n",
       "      <td>39.70</td>\n",
       "      <td>0.3031</td>\n",
       "      <td>0.4486</td>\n",
       "      <td>...</td>\n",
       "      <td>NaN</td>\n",
       "      <td>NaN</td>\n",
       "      <td>1.0</td>\n",
       "      <td>0.0</td>\n",
       "      <td>0.72</td>\n",
       "      <td>1.84</td>\n",
       "      <td>0.97</td>\n",
       "      <td>1.43</td>\n",
       "      <td>1.05</td>\n",
       "      <td>0.00</td>\n",
       "    </tr>\n",
       "    <tr>\n",
       "      <th>3005</th>\n",
       "      <td>2017</td>\n",
       "      <td>2017-08-05</td>\n",
       "      <td>2412</td>\n",
       "      <td>English League Championship</td>\n",
       "      <td>Queens Park Rangers</td>\n",
       "      <td>Reading</td>\n",
       "      <td>36.33</td>\n",
       "      <td>34.90</td>\n",
       "      <td>0.4420</td>\n",
       "      <td>0.2823</td>\n",
       "      <td>...</td>\n",
       "      <td>NaN</td>\n",
       "      <td>NaN</td>\n",
       "      <td>2.0</td>\n",
       "      <td>0.0</td>\n",
       "      <td>2.15</td>\n",
       "      <td>0.29</td>\n",
       "      <td>1.27</td>\n",
       "      <td>0.51</td>\n",
       "      <td>2.10</td>\n",
       "      <td>0.00</td>\n",
       "    </tr>\n",
       "    <tr>\n",
       "      <th>3006</th>\n",
       "      <td>2017</td>\n",
       "      <td>2017-08-05</td>\n",
       "      <td>2412</td>\n",
       "      <td>English League Championship</td>\n",
       "      <td>Fulham</td>\n",
       "      <td>Norwich City</td>\n",
       "      <td>43.00</td>\n",
       "      <td>42.60</td>\n",
       "      <td>0.4434</td>\n",
       "      <td>0.3142</td>\n",
       "      <td>...</td>\n",
       "      <td>NaN</td>\n",
       "      <td>NaN</td>\n",
       "      <td>1.0</td>\n",
       "      <td>1.0</td>\n",
       "      <td>1.19</td>\n",
       "      <td>1.71</td>\n",
       "      <td>2.35</td>\n",
       "      <td>1.88</td>\n",
       "      <td>1.05</td>\n",
       "      <td>1.05</td>\n",
       "    </tr>\n",
       "  </tbody>\n",
       "</table>\n",
       "<p>5 rows × 23 columns</p>\n",
       "</div>"
      ],
      "text/plain": [
       "      season        date  league_id                       league  \\\n",
       "2992    2017  2017-08-04       2412  English League Championship   \n",
       "2994    2017  2017-08-04       2412  English League Championship   \n",
       "3004    2017  2017-08-05       2412  English League Championship   \n",
       "3005    2017  2017-08-05       2412  English League Championship   \n",
       "3006    2017  2017-08-05       2412  English League Championship   \n",
       "\n",
       "                    team1         team2   spi1   spi2   prob1   prob2  ...  \\\n",
       "2992           Sunderland  Derby County  50.39  40.83  0.5266  0.2184  ...   \n",
       "2994    Nottingham Forest      Millwall  35.55  28.23  0.5149  0.2186  ...   \n",
       "3004     Sheffield United     Brentford  27.72  39.70  0.3031  0.4486  ...   \n",
       "3005  Queens Park Rangers       Reading  36.33  34.90  0.4420  0.2823  ...   \n",
       "3006               Fulham  Norwich City  43.00  42.60  0.4434  0.3142  ...   \n",
       "\n",
       "      importance1  importance2  score1  score2   xg1   xg2  nsxg1  nsxg2  \\\n",
       "2992          NaN          NaN     1.0     1.0  2.24  1.23   1.92   1.38   \n",
       "2994          NaN          NaN     1.0     0.0  0.45  3.49   1.26   2.73   \n",
       "3004          NaN          NaN     1.0     0.0  0.72  1.84   0.97   1.43   \n",
       "3005          NaN          NaN     2.0     0.0  2.15  0.29   1.27   0.51   \n",
       "3006          NaN          NaN     1.0     1.0  1.19  1.71   2.35   1.88   \n",
       "\n",
       "      adj_score1  adj_score2  \n",
       "2992        1.05        1.05  \n",
       "2994        1.05        0.00  \n",
       "3004        1.05        0.00  \n",
       "3005        2.10        0.00  \n",
       "3006        1.05        1.05  \n",
       "\n",
       "[5 rows x 23 columns]"
      ]
     },
     "execution_count": 60,
     "metadata": {},
     "output_type": "execute_result"
    }
   ],
   "source": [
    "spi_df.loc[spi_df['league'] == 'English League Championship'].head() \n",
    "#English League Championship ID is 2412"
   ]
  },
  {
   "cell_type": "code",
   "execution_count": 61,
   "metadata": {},
   "outputs": [
    {
     "data": {
      "text/html": [
       "<div>\n",
       "<style scoped>\n",
       "    .dataframe tbody tr th:only-of-type {\n",
       "        vertical-align: middle;\n",
       "    }\n",
       "\n",
       "    .dataframe tbody tr th {\n",
       "        vertical-align: top;\n",
       "    }\n",
       "\n",
       "    .dataframe thead th {\n",
       "        text-align: right;\n",
       "    }\n",
       "</style>\n",
       "<table border=\"1\" class=\"dataframe\">\n",
       "  <thead>\n",
       "    <tr style=\"text-align: right;\">\n",
       "      <th></th>\n",
       "      <th>season</th>\n",
       "      <th>date</th>\n",
       "      <th>league_id</th>\n",
       "      <th>league</th>\n",
       "      <th>team1</th>\n",
       "      <th>team2</th>\n",
       "      <th>spi1</th>\n",
       "      <th>spi2</th>\n",
       "      <th>prob1</th>\n",
       "      <th>prob2</th>\n",
       "      <th>...</th>\n",
       "      <th>importance1</th>\n",
       "      <th>importance2</th>\n",
       "      <th>score1</th>\n",
       "      <th>score2</th>\n",
       "      <th>xg1</th>\n",
       "      <th>xg2</th>\n",
       "      <th>nsxg1</th>\n",
       "      <th>nsxg2</th>\n",
       "      <th>adj_score1</th>\n",
       "      <th>adj_score2</th>\n",
       "    </tr>\n",
       "  </thead>\n",
       "  <tbody>\n",
       "    <tr>\n",
       "      <th>2992</th>\n",
       "      <td>2017</td>\n",
       "      <td>2017-08-04</td>\n",
       "      <td>2412</td>\n",
       "      <td>English League Championship</td>\n",
       "      <td>Sunderland</td>\n",
       "      <td>Derby County</td>\n",
       "      <td>50.39</td>\n",
       "      <td>40.83</td>\n",
       "      <td>0.5266</td>\n",
       "      <td>0.2184</td>\n",
       "      <td>...</td>\n",
       "      <td>NaN</td>\n",
       "      <td>NaN</td>\n",
       "      <td>1.0</td>\n",
       "      <td>1.0</td>\n",
       "      <td>2.24</td>\n",
       "      <td>1.23</td>\n",
       "      <td>1.92</td>\n",
       "      <td>1.38</td>\n",
       "      <td>1.05</td>\n",
       "      <td>1.05</td>\n",
       "    </tr>\n",
       "    <tr>\n",
       "      <th>2994</th>\n",
       "      <td>2017</td>\n",
       "      <td>2017-08-04</td>\n",
       "      <td>2412</td>\n",
       "      <td>English League Championship</td>\n",
       "      <td>Nottingham Forest</td>\n",
       "      <td>Millwall</td>\n",
       "      <td>35.55</td>\n",
       "      <td>28.23</td>\n",
       "      <td>0.5149</td>\n",
       "      <td>0.2186</td>\n",
       "      <td>...</td>\n",
       "      <td>NaN</td>\n",
       "      <td>NaN</td>\n",
       "      <td>1.0</td>\n",
       "      <td>0.0</td>\n",
       "      <td>0.45</td>\n",
       "      <td>3.49</td>\n",
       "      <td>1.26</td>\n",
       "      <td>2.73</td>\n",
       "      <td>1.05</td>\n",
       "      <td>0.00</td>\n",
       "    </tr>\n",
       "    <tr>\n",
       "      <th>3004</th>\n",
       "      <td>2017</td>\n",
       "      <td>2017-08-05</td>\n",
       "      <td>2412</td>\n",
       "      <td>English League Championship</td>\n",
       "      <td>Sheffield United</td>\n",
       "      <td>Brentford</td>\n",
       "      <td>27.72</td>\n",
       "      <td>39.70</td>\n",
       "      <td>0.3031</td>\n",
       "      <td>0.4486</td>\n",
       "      <td>...</td>\n",
       "      <td>NaN</td>\n",
       "      <td>NaN</td>\n",
       "      <td>1.0</td>\n",
       "      <td>0.0</td>\n",
       "      <td>0.72</td>\n",
       "      <td>1.84</td>\n",
       "      <td>0.97</td>\n",
       "      <td>1.43</td>\n",
       "      <td>1.05</td>\n",
       "      <td>0.00</td>\n",
       "    </tr>\n",
       "    <tr>\n",
       "      <th>3005</th>\n",
       "      <td>2017</td>\n",
       "      <td>2017-08-05</td>\n",
       "      <td>2412</td>\n",
       "      <td>English League Championship</td>\n",
       "      <td>Queens Park Rangers</td>\n",
       "      <td>Reading</td>\n",
       "      <td>36.33</td>\n",
       "      <td>34.90</td>\n",
       "      <td>0.4420</td>\n",
       "      <td>0.2823</td>\n",
       "      <td>...</td>\n",
       "      <td>NaN</td>\n",
       "      <td>NaN</td>\n",
       "      <td>2.0</td>\n",
       "      <td>0.0</td>\n",
       "      <td>2.15</td>\n",
       "      <td>0.29</td>\n",
       "      <td>1.27</td>\n",
       "      <td>0.51</td>\n",
       "      <td>2.10</td>\n",
       "      <td>0.00</td>\n",
       "    </tr>\n",
       "    <tr>\n",
       "      <th>3006</th>\n",
       "      <td>2017</td>\n",
       "      <td>2017-08-05</td>\n",
       "      <td>2412</td>\n",
       "      <td>English League Championship</td>\n",
       "      <td>Fulham</td>\n",
       "      <td>Norwich City</td>\n",
       "      <td>43.00</td>\n",
       "      <td>42.60</td>\n",
       "      <td>0.4434</td>\n",
       "      <td>0.3142</td>\n",
       "      <td>...</td>\n",
       "      <td>NaN</td>\n",
       "      <td>NaN</td>\n",
       "      <td>1.0</td>\n",
       "      <td>1.0</td>\n",
       "      <td>1.19</td>\n",
       "      <td>1.71</td>\n",
       "      <td>2.35</td>\n",
       "      <td>1.88</td>\n",
       "      <td>1.05</td>\n",
       "      <td>1.05</td>\n",
       "    </tr>\n",
       "  </tbody>\n",
       "</table>\n",
       "<p>5 rows × 23 columns</p>\n",
       "</div>"
      ],
      "text/plain": [
       "      season        date  league_id                       league  \\\n",
       "2992    2017  2017-08-04       2412  English League Championship   \n",
       "2994    2017  2017-08-04       2412  English League Championship   \n",
       "3004    2017  2017-08-05       2412  English League Championship   \n",
       "3005    2017  2017-08-05       2412  English League Championship   \n",
       "3006    2017  2017-08-05       2412  English League Championship   \n",
       "\n",
       "                    team1         team2   spi1   spi2   prob1   prob2  ...  \\\n",
       "2992           Sunderland  Derby County  50.39  40.83  0.5266  0.2184  ...   \n",
       "2994    Nottingham Forest      Millwall  35.55  28.23  0.5149  0.2186  ...   \n",
       "3004     Sheffield United     Brentford  27.72  39.70  0.3031  0.4486  ...   \n",
       "3005  Queens Park Rangers       Reading  36.33  34.90  0.4420  0.2823  ...   \n",
       "3006               Fulham  Norwich City  43.00  42.60  0.4434  0.3142  ...   \n",
       "\n",
       "      importance1  importance2  score1  score2   xg1   xg2  nsxg1  nsxg2  \\\n",
       "2992          NaN          NaN     1.0     1.0  2.24  1.23   1.92   1.38   \n",
       "2994          NaN          NaN     1.0     0.0  0.45  3.49   1.26   2.73   \n",
       "3004          NaN          NaN     1.0     0.0  0.72  1.84   0.97   1.43   \n",
       "3005          NaN          NaN     2.0     0.0  2.15  0.29   1.27   0.51   \n",
       "3006          NaN          NaN     1.0     1.0  1.19  1.71   2.35   1.88   \n",
       "\n",
       "      adj_score1  adj_score2  \n",
       "2992        1.05        1.05  \n",
       "2994        1.05        0.00  \n",
       "3004        1.05        0.00  \n",
       "3005        2.10        0.00  \n",
       "3006        1.05        1.05  \n",
       "\n",
       "[5 rows x 23 columns]"
      ]
     },
     "execution_count": 61,
     "metadata": {},
     "output_type": "execute_result"
    }
   ],
   "source": [
    "#Filtering spi_df for \"English League Championship\"\n",
    "elc = spi_df[spi_df.league.eq('English League Championship')]\n",
    "elc.head()"
   ]
  },
  {
   "cell_type": "code",
   "execution_count": 62,
   "metadata": {},
   "outputs": [
    {
     "data": {
      "text/plain": [
       "Index(['season', 'date', 'league_id', 'league', 'team1', 'team2', 'spi1',\n",
       "       'spi2', 'prob1', 'prob2', 'probtie', 'proj_score1', 'proj_score2',\n",
       "       'importance1', 'importance2', 'score1', 'score2', 'xg1', 'xg2', 'nsxg1',\n",
       "       'nsxg2', 'adj_score1', 'adj_score2'],\n",
       "      dtype='object')"
      ]
     },
     "execution_count": 62,
     "metadata": {},
     "output_type": "execute_result"
    }
   ],
   "source": [
    "elc.columns\n",
    "# I am not concerned with the match-specific columns toward the last half of this list.\n",
    "# I will likely only keep features from 'season' through 'spi2'"
   ]
  },
  {
   "cell_type": "code",
   "execution_count": 63,
   "metadata": {},
   "outputs": [
    {
     "data": {
      "text/plain": [
       "season           int64\n",
       "date            object\n",
       "league_id        int64\n",
       "league          object\n",
       "team1           object\n",
       "team2           object\n",
       "spi1           float64\n",
       "spi2           float64\n",
       "prob1          float64\n",
       "prob2          float64\n",
       "probtie        float64\n",
       "proj_score1    float64\n",
       "proj_score2    float64\n",
       "importance1    float64\n",
       "importance2    float64\n",
       "score1         float64\n",
       "score2         float64\n",
       "xg1            float64\n",
       "xg2            float64\n",
       "nsxg1          float64\n",
       "nsxg2          float64\n",
       "adj_score1     float64\n",
       "adj_score2     float64\n",
       "dtype: object"
      ]
     },
     "execution_count": 63,
     "metadata": {},
     "output_type": "execute_result"
    }
   ],
   "source": [
    "elc.dtypes"
   ]
  },
  {
   "cell_type": "code",
   "execution_count": 64,
   "metadata": {},
   "outputs": [
    {
     "data": {
      "text/html": [
       "<div>\n",
       "<style scoped>\n",
       "    .dataframe tbody tr th:only-of-type {\n",
       "        vertical-align: middle;\n",
       "    }\n",
       "\n",
       "    .dataframe tbody tr th {\n",
       "        vertical-align: top;\n",
       "    }\n",
       "\n",
       "    .dataframe thead th {\n",
       "        text-align: right;\n",
       "    }\n",
       "</style>\n",
       "<table border=\"1\" class=\"dataframe\">\n",
       "  <thead>\n",
       "    <tr style=\"text-align: right;\">\n",
       "      <th></th>\n",
       "      <th>percent</th>\n",
       "    </tr>\n",
       "  </thead>\n",
       "  <tbody>\n",
       "    <tr>\n",
       "      <th>importance2</th>\n",
       "      <td>0.363473</td>\n",
       "    </tr>\n",
       "    <tr>\n",
       "      <th>importance1</th>\n",
       "      <td>0.363473</td>\n",
       "    </tr>\n",
       "    <tr>\n",
       "      <th>adj_score2</th>\n",
       "      <td>0.238866</td>\n",
       "    </tr>\n",
       "    <tr>\n",
       "      <th>nsxg2</th>\n",
       "      <td>0.238866</td>\n",
       "    </tr>\n",
       "    <tr>\n",
       "      <th>nsxg1</th>\n",
       "      <td>0.238866</td>\n",
       "    </tr>\n",
       "    <tr>\n",
       "      <th>xg2</th>\n",
       "      <td>0.238866</td>\n",
       "    </tr>\n",
       "    <tr>\n",
       "      <th>xg1</th>\n",
       "      <td>0.238866</td>\n",
       "    </tr>\n",
       "    <tr>\n",
       "      <th>adj_score1</th>\n",
       "      <td>0.238866</td>\n",
       "    </tr>\n",
       "    <tr>\n",
       "      <th>score2</th>\n",
       "      <td>0.237517</td>\n",
       "    </tr>\n",
       "    <tr>\n",
       "      <th>score1</th>\n",
       "      <td>0.237517</td>\n",
       "    </tr>\n",
       "  </tbody>\n",
       "</table>\n",
       "</div>"
      ],
      "text/plain": [
       "              percent\n",
       "importance2  0.363473\n",
       "importance1  0.363473\n",
       "adj_score2   0.238866\n",
       "nsxg2        0.238866\n",
       "nsxg1        0.238866\n",
       "xg2          0.238866\n",
       "xg1          0.238866\n",
       "adj_score1   0.238866\n",
       "score2       0.237517\n",
       "score1       0.237517"
      ]
     },
     "execution_count": 64,
     "metadata": {},
     "output_type": "execute_result"
    }
   ],
   "source": [
    "elc_nulls = pd.DataFrame(elc.isnull().sum().sort_values(ascending=False)/len(elc), columns = ['percent'])\n",
    "elc_percent_null = elc_nulls['percent'] > 0\n",
    "elc_nulls[elc_percent_null]\n",
    "# High percentages of null values, but only in the columns that I am unlikely to need."
   ]
  },
  {
   "cell_type": "code",
   "execution_count": 65,
   "metadata": {},
   "outputs": [
    {
     "name": "stderr",
     "output_type": "stream",
     "text": [
      "/home/tdraths/miniconda3/lib/python3.7/site-packages/pandas/core/frame.py:3997: SettingWithCopyWarning: \n",
      "A value is trying to be set on a copy of a slice from a DataFrame\n",
      "\n",
      "See the caveats in the documentation: https://pandas.pydata.org/pandas-docs/stable/user_guide/indexing.html#returning-a-view-versus-a-copy\n",
      "  errors=errors,\n"
     ]
    }
   ],
   "source": [
    "# Dropping those unnecessary columns. I'm only focusing on the actual SPI ranking for clubs\n",
    "# The match specific data isn't important for my questions.\n",
    "columns = ['importance2', 'importance1', 'adj_score2', 'nsxg2', 'nsxg1', 'xg2', 'xg1', 'adj_score1', 'score2', 'score1', 'prob1', 'prob2', 'probtie', 'proj_score1', 'proj_score2']\n",
    "elc.drop(columns, inplace=True, axis=1)"
   ]
  },
  {
   "cell_type": "code",
   "execution_count": 66,
   "metadata": {},
   "outputs": [
    {
     "data": {
      "text/html": [
       "<div>\n",
       "<style scoped>\n",
       "    .dataframe tbody tr th:only-of-type {\n",
       "        vertical-align: middle;\n",
       "    }\n",
       "\n",
       "    .dataframe tbody tr th {\n",
       "        vertical-align: top;\n",
       "    }\n",
       "\n",
       "    .dataframe thead th {\n",
       "        text-align: right;\n",
       "    }\n",
       "</style>\n",
       "<table border=\"1\" class=\"dataframe\">\n",
       "  <thead>\n",
       "    <tr style=\"text-align: right;\">\n",
       "      <th></th>\n",
       "      <th>season</th>\n",
       "      <th>date</th>\n",
       "      <th>league_id</th>\n",
       "      <th>league</th>\n",
       "      <th>team1</th>\n",
       "      <th>team2</th>\n",
       "      <th>spi1</th>\n",
       "      <th>spi2</th>\n",
       "    </tr>\n",
       "  </thead>\n",
       "  <tbody>\n",
       "    <tr>\n",
       "      <th>2992</th>\n",
       "      <td>2017</td>\n",
       "      <td>2017-08-04</td>\n",
       "      <td>2412</td>\n",
       "      <td>English League Championship</td>\n",
       "      <td>Sunderland</td>\n",
       "      <td>Derby County</td>\n",
       "      <td>50.39</td>\n",
       "      <td>40.83</td>\n",
       "    </tr>\n",
       "    <tr>\n",
       "      <th>2994</th>\n",
       "      <td>2017</td>\n",
       "      <td>2017-08-04</td>\n",
       "      <td>2412</td>\n",
       "      <td>English League Championship</td>\n",
       "      <td>Nottingham Forest</td>\n",
       "      <td>Millwall</td>\n",
       "      <td>35.55</td>\n",
       "      <td>28.23</td>\n",
       "    </tr>\n",
       "    <tr>\n",
       "      <th>3004</th>\n",
       "      <td>2017</td>\n",
       "      <td>2017-08-05</td>\n",
       "      <td>2412</td>\n",
       "      <td>English League Championship</td>\n",
       "      <td>Sheffield United</td>\n",
       "      <td>Brentford</td>\n",
       "      <td>27.72</td>\n",
       "      <td>39.70</td>\n",
       "    </tr>\n",
       "    <tr>\n",
       "      <th>3005</th>\n",
       "      <td>2017</td>\n",
       "      <td>2017-08-05</td>\n",
       "      <td>2412</td>\n",
       "      <td>English League Championship</td>\n",
       "      <td>Queens Park Rangers</td>\n",
       "      <td>Reading</td>\n",
       "      <td>36.33</td>\n",
       "      <td>34.90</td>\n",
       "    </tr>\n",
       "    <tr>\n",
       "      <th>3006</th>\n",
       "      <td>2017</td>\n",
       "      <td>2017-08-05</td>\n",
       "      <td>2412</td>\n",
       "      <td>English League Championship</td>\n",
       "      <td>Fulham</td>\n",
       "      <td>Norwich City</td>\n",
       "      <td>43.00</td>\n",
       "      <td>42.60</td>\n",
       "    </tr>\n",
       "  </tbody>\n",
       "</table>\n",
       "</div>"
      ],
      "text/plain": [
       "      season        date  league_id                       league  \\\n",
       "2992    2017  2017-08-04       2412  English League Championship   \n",
       "2994    2017  2017-08-04       2412  English League Championship   \n",
       "3004    2017  2017-08-05       2412  English League Championship   \n",
       "3005    2017  2017-08-05       2412  English League Championship   \n",
       "3006    2017  2017-08-05       2412  English League Championship   \n",
       "\n",
       "                    team1         team2   spi1   spi2  \n",
       "2992           Sunderland  Derby County  50.39  40.83  \n",
       "2994    Nottingham Forest      Millwall  35.55  28.23  \n",
       "3004     Sheffield United     Brentford  27.72  39.70  \n",
       "3005  Queens Park Rangers       Reading  36.33  34.90  \n",
       "3006               Fulham  Norwich City  43.00  42.60  "
      ]
     },
     "execution_count": 66,
     "metadata": {},
     "output_type": "execute_result"
    }
   ],
   "source": [
    "elc.head()\n",
    "# Having a look at the new DF before saving it back to a .csv"
   ]
  },
  {
   "cell_type": "code",
   "execution_count": 67,
   "metadata": {},
   "outputs": [],
   "source": [
    "elc.to_csv(\"/home/tdraths/sb_assignments/Transfers_Capstone/data/data_cleaning_outputs/elc_spi_output.csv\")"
   ]
  },
  {
   "cell_type": "markdown",
   "metadata": {},
   "source": [
    "### Using CONCAT to  combine clean .cvs Files"
   ]
  },
  {
   "cell_type": "code",
   "execution_count": 68,
   "metadata": {},
   "outputs": [],
   "source": [
    "ec_2019 = pd.read_csv(\"/home/tdraths/sb_assignments/Transfers_Capstone/data/data_cleaning_outputs/english_championship_2019_output.csv\")\n",
    "ec_2018 = pd.read_csv(\"/home/tdraths/sb_assignments/Transfers_Capstone/data/data_cleaning_outputs/english_championship_2018_output.csv\")\n",
    "ec_2017 = pd.read_csv(\"/home/tdraths/sb_assignments/Transfers_Capstone/data/data_cleaning_outputs/english_championship_2017_output.csv\")\n",
    "ec_2016 = pd.read_csv(\"/home/tdraths/sb_assignments/Transfers_Capstone/data/data_cleaning_outputs/english_championship_2016_output.csv\")"
   ]
  },
  {
   "cell_type": "code",
   "execution_count": 69,
   "metadata": {},
   "outputs": [],
   "source": [
    "ec_all_years = pd.concat([ec_2016, ec_2017, ec_2018, ec_2019])"
   ]
  },
  {
   "cell_type": "code",
   "execution_count": 70,
   "metadata": {},
   "outputs": [
    {
     "data": {
      "text/plain": [
       "Index(['Unnamed: 0', 'club_name', 'player_name', 'age', 'position',\n",
       "       'club_involved_name', 'fee', 'transfer_movement', 'fee_cleaned',\n",
       "       'league_name', 'year', 'season'],\n",
       "      dtype='object')"
      ]
     },
     "execution_count": 70,
     "metadata": {},
     "output_type": "execute_result"
    }
   ],
   "source": [
    "ec_all_years.columns"
   ]
  },
  {
   "cell_type": "code",
   "execution_count": 71,
   "metadata": {},
   "outputs": [
    {
     "data": {
      "text/plain": [
       "Unnamed: 0              int64\n",
       "club_name              object\n",
       "player_name            object\n",
       "age                     int64\n",
       "position               object\n",
       "club_involved_name     object\n",
       "fee                    object\n",
       "transfer_movement      object\n",
       "fee_cleaned           float64\n",
       "league_name            object\n",
       "year                    int64\n",
       "season                 object\n",
       "dtype: object"
      ]
     },
     "execution_count": 71,
     "metadata": {},
     "output_type": "execute_result"
    }
   ],
   "source": [
    "ec_all_years.dtypes"
   ]
  },
  {
   "cell_type": "code",
   "execution_count": 72,
   "metadata": {},
   "outputs": [
    {
     "data": {
      "text/html": [
       "<div>\n",
       "<style scoped>\n",
       "    .dataframe tbody tr th:only-of-type {\n",
       "        vertical-align: middle;\n",
       "    }\n",
       "\n",
       "    .dataframe tbody tr th {\n",
       "        vertical-align: top;\n",
       "    }\n",
       "\n",
       "    .dataframe thead th {\n",
       "        text-align: right;\n",
       "    }\n",
       "</style>\n",
       "<table border=\"1\" class=\"dataframe\">\n",
       "  <thead>\n",
       "    <tr style=\"text-align: right;\">\n",
       "      <th></th>\n",
       "      <th>Unnamed: 0</th>\n",
       "      <th>club_name</th>\n",
       "      <th>player_name</th>\n",
       "      <th>age</th>\n",
       "      <th>position</th>\n",
       "      <th>club_involved_name</th>\n",
       "      <th>fee</th>\n",
       "      <th>transfer_movement</th>\n",
       "      <th>fee_cleaned</th>\n",
       "      <th>league_name</th>\n",
       "      <th>year</th>\n",
       "      <th>season</th>\n",
       "    </tr>\n",
       "  </thead>\n",
       "  <tbody>\n",
       "    <tr>\n",
       "      <th>173</th>\n",
       "      <td>173</td>\n",
       "      <td>Aston Villa</td>\n",
       "      <td>Tammy Abraham</td>\n",
       "      <td>21</td>\n",
       "      <td>Centre-Forward</td>\n",
       "      <td>Chelsea</td>\n",
       "      <td>End of loanMay 31, 2019</td>\n",
       "      <td>out</td>\n",
       "      <td>0.0</td>\n",
       "      <td>Championship</td>\n",
       "      <td>2018</td>\n",
       "      <td>2018/2019</td>\n",
       "    </tr>\n",
       "    <tr>\n",
       "      <th>104</th>\n",
       "      <td>104</td>\n",
       "      <td>Aston Villa</td>\n",
       "      <td>Ross McCormack</td>\n",
       "      <td>30</td>\n",
       "      <td>Second Striker</td>\n",
       "      <td>Nottm Forest</td>\n",
       "      <td>End of loanMay 31, 2017</td>\n",
       "      <td>in</td>\n",
       "      <td>0.0</td>\n",
       "      <td>Championship</td>\n",
       "      <td>2016</td>\n",
       "      <td>2016/2017</td>\n",
       "    </tr>\n",
       "    <tr>\n",
       "      <th>105</th>\n",
       "      <td>105</td>\n",
       "      <td>Aston Villa</td>\n",
       "      <td>José Crespo</td>\n",
       "      <td>29</td>\n",
       "      <td>Centre-Back</td>\n",
       "      <td>Rayo Vallecano</td>\n",
       "      <td>End of loanJun 30, 2016</td>\n",
       "      <td>in</td>\n",
       "      <td>0.0</td>\n",
       "      <td>Championship</td>\n",
       "      <td>2016</td>\n",
       "      <td>2016/2017</td>\n",
       "    </tr>\n",
       "    <tr>\n",
       "      <th>106</th>\n",
       "      <td>106</td>\n",
       "      <td>Aston Villa</td>\n",
       "      <td>Callum Robinson</td>\n",
       "      <td>21</td>\n",
       "      <td>Left Winger</td>\n",
       "      <td>Preston NE</td>\n",
       "      <td>End of loanJun 30, 2016</td>\n",
       "      <td>in</td>\n",
       "      <td>0.0</td>\n",
       "      <td>Championship</td>\n",
       "      <td>2016</td>\n",
       "      <td>2016/2017</td>\n",
       "    </tr>\n",
       "    <tr>\n",
       "      <th>107</th>\n",
       "      <td>107</td>\n",
       "      <td>Aston Villa</td>\n",
       "      <td>Janoi Donacien</td>\n",
       "      <td>22</td>\n",
       "      <td>Centre-Back</td>\n",
       "      <td>Newport County</td>\n",
       "      <td>End of loanJun 30, 2016</td>\n",
       "      <td>in</td>\n",
       "      <td>0.0</td>\n",
       "      <td>Championship</td>\n",
       "      <td>2016</td>\n",
       "      <td>2016/2017</td>\n",
       "    </tr>\n",
       "    <tr>\n",
       "      <th>...</th>\n",
       "      <td>...</td>\n",
       "      <td>...</td>\n",
       "      <td>...</td>\n",
       "      <td>...</td>\n",
       "      <td>...</td>\n",
       "      <td>...</td>\n",
       "      <td>...</td>\n",
       "      <td>...</td>\n",
       "      <td>...</td>\n",
       "      <td>...</td>\n",
       "      <td>...</td>\n",
       "      <td>...</td>\n",
       "    </tr>\n",
       "    <tr>\n",
       "      <th>698</th>\n",
       "      <td>698</td>\n",
       "      <td>Wolverhampton Wanderers</td>\n",
       "      <td>Jonathan Flatt</td>\n",
       "      <td>22</td>\n",
       "      <td>Goalkeeper</td>\n",
       "      <td>Cheltenham Town</td>\n",
       "      <td>Loan</td>\n",
       "      <td>out</td>\n",
       "      <td>0.0</td>\n",
       "      <td>Championship</td>\n",
       "      <td>2017</td>\n",
       "      <td>2017/2018</td>\n",
       "    </tr>\n",
       "    <tr>\n",
       "      <th>699</th>\n",
       "      <td>699</td>\n",
       "      <td>Wolverhampton Wanderers</td>\n",
       "      <td>Prince Oniangué</td>\n",
       "      <td>29</td>\n",
       "      <td>Defensive Midfield</td>\n",
       "      <td>SCO Angers</td>\n",
       "      <td>Loan</td>\n",
       "      <td>out</td>\n",
       "      <td>0.0</td>\n",
       "      <td>Championship</td>\n",
       "      <td>2017</td>\n",
       "      <td>2017/2018</td>\n",
       "    </tr>\n",
       "    <tr>\n",
       "      <th>700</th>\n",
       "      <td>700</td>\n",
       "      <td>Wolverhampton Wanderers</td>\n",
       "      <td>Michal Zyro</td>\n",
       "      <td>25</td>\n",
       "      <td>Right Winger</td>\n",
       "      <td>Charlton</td>\n",
       "      <td>Loan</td>\n",
       "      <td>out</td>\n",
       "      <td>0.0</td>\n",
       "      <td>Championship</td>\n",
       "      <td>2017</td>\n",
       "      <td>2017/2018</td>\n",
       "    </tr>\n",
       "    <tr>\n",
       "      <th>694</th>\n",
       "      <td>694</td>\n",
       "      <td>Wolverhampton Wanderers</td>\n",
       "      <td>Jack Ruddy</td>\n",
       "      <td>19</td>\n",
       "      <td>Goalkeeper</td>\n",
       "      <td>Oldham Athletic</td>\n",
       "      <td>Loan</td>\n",
       "      <td>out</td>\n",
       "      <td>0.0</td>\n",
       "      <td>Championship</td>\n",
       "      <td>2017</td>\n",
       "      <td>2017/2018</td>\n",
       "    </tr>\n",
       "    <tr>\n",
       "      <th>597</th>\n",
       "      <td>597</td>\n",
       "      <td>Wolverhampton Wanderers</td>\n",
       "      <td>Jonathan Flatt</td>\n",
       "      <td>22</td>\n",
       "      <td>Goalkeeper</td>\n",
       "      <td>Barrow</td>\n",
       "      <td>End of loanMay 31, 2017</td>\n",
       "      <td>in</td>\n",
       "      <td>0.0</td>\n",
       "      <td>Championship</td>\n",
       "      <td>2016</td>\n",
       "      <td>2016/2017</td>\n",
       "    </tr>\n",
       "  </tbody>\n",
       "</table>\n",
       "<p>4439 rows × 12 columns</p>\n",
       "</div>"
      ],
      "text/plain": [
       "     Unnamed: 0                club_name      player_name  age  \\\n",
       "173         173              Aston Villa    Tammy Abraham   21   \n",
       "104         104              Aston Villa   Ross McCormack   30   \n",
       "105         105              Aston Villa      José Crespo   29   \n",
       "106         106              Aston Villa  Callum Robinson   21   \n",
       "107         107              Aston Villa   Janoi Donacien   22   \n",
       "..          ...                      ...              ...  ...   \n",
       "698         698  Wolverhampton Wanderers   Jonathan Flatt   22   \n",
       "699         699  Wolverhampton Wanderers  Prince Oniangué   29   \n",
       "700         700  Wolverhampton Wanderers      Michal Zyro   25   \n",
       "694         694  Wolverhampton Wanderers       Jack Ruddy   19   \n",
       "597         597  Wolverhampton Wanderers   Jonathan Flatt   22   \n",
       "\n",
       "               position club_involved_name                      fee  \\\n",
       "173      Centre-Forward            Chelsea  End of loanMay 31, 2019   \n",
       "104      Second Striker       Nottm Forest  End of loanMay 31, 2017   \n",
       "105         Centre-Back     Rayo Vallecano  End of loanJun 30, 2016   \n",
       "106         Left Winger         Preston NE  End of loanJun 30, 2016   \n",
       "107         Centre-Back     Newport County  End of loanJun 30, 2016   \n",
       "..                  ...                ...                      ...   \n",
       "698          Goalkeeper    Cheltenham Town                     Loan   \n",
       "699  Defensive Midfield         SCO Angers                     Loan   \n",
       "700        Right Winger           Charlton                     Loan   \n",
       "694          Goalkeeper    Oldham Athletic                     Loan   \n",
       "597          Goalkeeper             Barrow  End of loanMay 31, 2017   \n",
       "\n",
       "    transfer_movement  fee_cleaned   league_name  year     season  \n",
       "173               out          0.0  Championship  2018  2018/2019  \n",
       "104                in          0.0  Championship  2016  2016/2017  \n",
       "105                in          0.0  Championship  2016  2016/2017  \n",
       "106                in          0.0  Championship  2016  2016/2017  \n",
       "107                in          0.0  Championship  2016  2016/2017  \n",
       "..                ...          ...           ...   ...        ...  \n",
       "698               out          0.0  Championship  2017  2017/2018  \n",
       "699               out          0.0  Championship  2017  2017/2018  \n",
       "700               out          0.0  Championship  2017  2017/2018  \n",
       "694               out          0.0  Championship  2017  2017/2018  \n",
       "597                in          0.0  Championship  2016  2016/2017  \n",
       "\n",
       "[4439 rows x 12 columns]"
      ]
     },
     "execution_count": 72,
     "metadata": {},
     "output_type": "execute_result"
    }
   ],
   "source": [
    "ec_all_years.sort_values('club_name')"
   ]
  },
  {
   "cell_type": "code",
   "execution_count": 73,
   "metadata": {},
   "outputs": [
    {
     "data": {
      "text/html": [
       "<div>\n",
       "<style scoped>\n",
       "    .dataframe tbody tr th:only-of-type {\n",
       "        vertical-align: middle;\n",
       "    }\n",
       "\n",
       "    .dataframe tbody tr th {\n",
       "        vertical-align: top;\n",
       "    }\n",
       "\n",
       "    .dataframe thead th {\n",
       "        text-align: right;\n",
       "    }\n",
       "</style>\n",
       "<table border=\"1\" class=\"dataframe\">\n",
       "  <thead>\n",
       "    <tr style=\"text-align: right;\">\n",
       "      <th></th>\n",
       "      <th>Unnamed: 0</th>\n",
       "      <th>club_name</th>\n",
       "      <th>player_name</th>\n",
       "      <th>age</th>\n",
       "      <th>position</th>\n",
       "      <th>club_involved_name</th>\n",
       "      <th>fee</th>\n",
       "      <th>transfer_movement</th>\n",
       "      <th>fee_cleaned</th>\n",
       "      <th>league_name</th>\n",
       "      <th>year</th>\n",
       "      <th>season</th>\n",
       "    </tr>\n",
       "  </thead>\n",
       "  <tbody>\n",
       "    <tr>\n",
       "      <th>0</th>\n",
       "      <td>0</td>\n",
       "      <td>Newcastle United</td>\n",
       "      <td>Dwight Gayle</td>\n",
       "      <td>25</td>\n",
       "      <td>Centre-Forward</td>\n",
       "      <td>Crystal Palace</td>\n",
       "      <td>£10.80m</td>\n",
       "      <td>in</td>\n",
       "      <td>10.80</td>\n",
       "      <td>Championship</td>\n",
       "      <td>2016</td>\n",
       "      <td>2016/2017</td>\n",
       "    </tr>\n",
       "    <tr>\n",
       "      <th>1</th>\n",
       "      <td>1</td>\n",
       "      <td>Newcastle United</td>\n",
       "      <td>Matt Ritchie</td>\n",
       "      <td>26</td>\n",
       "      <td>Right Midfield</td>\n",
       "      <td>Bournemouth</td>\n",
       "      <td>£10.80m</td>\n",
       "      <td>in</td>\n",
       "      <td>10.80</td>\n",
       "      <td>Championship</td>\n",
       "      <td>2016</td>\n",
       "      <td>2016/2017</td>\n",
       "    </tr>\n",
       "    <tr>\n",
       "      <th>2</th>\n",
       "      <td>2</td>\n",
       "      <td>Newcastle United</td>\n",
       "      <td>Matz Sels</td>\n",
       "      <td>24</td>\n",
       "      <td>Goalkeeper</td>\n",
       "      <td>KAA Gent</td>\n",
       "      <td>£5.94m</td>\n",
       "      <td>in</td>\n",
       "      <td>5.94</td>\n",
       "      <td>Championship</td>\n",
       "      <td>2016</td>\n",
       "      <td>2016/2017</td>\n",
       "    </tr>\n",
       "    <tr>\n",
       "      <th>3</th>\n",
       "      <td>3</td>\n",
       "      <td>Newcastle United</td>\n",
       "      <td>Grant Hanley</td>\n",
       "      <td>24</td>\n",
       "      <td>Centre-Back</td>\n",
       "      <td>Blackburn</td>\n",
       "      <td>£5.94m</td>\n",
       "      <td>in</td>\n",
       "      <td>5.94</td>\n",
       "      <td>Championship</td>\n",
       "      <td>2016</td>\n",
       "      <td>2016/2017</td>\n",
       "    </tr>\n",
       "    <tr>\n",
       "      <th>4</th>\n",
       "      <td>4</td>\n",
       "      <td>Newcastle United</td>\n",
       "      <td>Ciaran Clark</td>\n",
       "      <td>26</td>\n",
       "      <td>Centre-Back</td>\n",
       "      <td>Aston Villa</td>\n",
       "      <td>£5.40m</td>\n",
       "      <td>in</td>\n",
       "      <td>5.40</td>\n",
       "      <td>Championship</td>\n",
       "      <td>2016</td>\n",
       "      <td>2016/2017</td>\n",
       "    </tr>\n",
       "  </tbody>\n",
       "</table>\n",
       "</div>"
      ],
      "text/plain": [
       "   Unnamed: 0         club_name   player_name  age        position  \\\n",
       "0           0  Newcastle United  Dwight Gayle   25  Centre-Forward   \n",
       "1           1  Newcastle United  Matt Ritchie   26  Right Midfield   \n",
       "2           2  Newcastle United     Matz Sels   24      Goalkeeper   \n",
       "3           3  Newcastle United  Grant Hanley   24     Centre-Back   \n",
       "4           4  Newcastle United  Ciaran Clark   26     Centre-Back   \n",
       "\n",
       "  club_involved_name      fee transfer_movement  fee_cleaned   league_name  \\\n",
       "0     Crystal Palace  £10.80m                in        10.80  Championship   \n",
       "1        Bournemouth  £10.80m                in        10.80  Championship   \n",
       "2           KAA Gent   £5.94m                in         5.94  Championship   \n",
       "3          Blackburn   £5.94m                in         5.94  Championship   \n",
       "4        Aston Villa   £5.40m                in         5.40  Championship   \n",
       "\n",
       "   year     season  \n",
       "0  2016  2016/2017  \n",
       "1  2016  2016/2017  \n",
       "2  2016  2016/2017  \n",
       "3  2016  2016/2017  \n",
       "4  2016  2016/2017  "
      ]
     },
     "execution_count": 73,
     "metadata": {},
     "output_type": "execute_result"
    }
   ],
   "source": [
    "newcastle = ec_all_years[ec_all_years['club_name'] == 'Newcastle United']\n",
    "newcastle.head()"
   ]
  },
  {
   "cell_type": "code",
   "execution_count": 84,
   "metadata": {},
   "outputs": [
    {
     "data": {
      "text/plain": [
       "Unnamed: 0            1203\n",
       "club_name               35\n",
       "player_name           1753\n",
       "age                     25\n",
       "position                15\n",
       "club_involved_name     602\n",
       "fee                    436\n",
       "transfer_movement        2\n",
       "fee_cleaned            198\n",
       "league_name              1\n",
       "year                     4\n",
       "season                   4\n",
       "dtype: int64"
      ]
     },
     "execution_count": 84,
     "metadata": {},
     "output_type": "execute_result"
    }
   ],
   "source": [
    "ec_all_years.nunique()"
   ]
  },
  {
   "cell_type": "code",
   "execution_count": 86,
   "metadata": {},
   "outputs": [
    {
     "data": {
      "text/plain": [
       "array(['Newcastle United', 'Norwich City', 'Aston Villa',\n",
       "       'Brighton & Hove Albion', 'Derby County', 'Sheffield Wednesday',\n",
       "       'Ipswich Town', 'Cardiff City', 'Brentford FC', 'Birmingham City',\n",
       "       'Preston North End', 'Queens Park Rangers', 'Leeds United',\n",
       "       'Wolverhampton Wanderers', 'Blackburn Rovers', 'Nottingham Forest',\n",
       "       'Reading FC', 'Bristol City', 'Huddersfield Town', 'Fulham FC',\n",
       "       'Rotherham United', 'Wigan Athletic', 'Burton Albion',\n",
       "       'Barnsley FC', 'Hull City', 'Middlesbrough FC', 'Sunderland AFC',\n",
       "       'Sheffield United', 'Bolton Wanderers', 'Millwall FC',\n",
       "       'Swansea City', 'Stoke City', 'West Bromwich Albion', 'Luton Town',\n",
       "       'Charlton Athletic'], dtype=object)"
      ]
     },
     "execution_count": 86,
     "metadata": {},
     "output_type": "execute_result"
    }
   ],
   "source": [
    "ec_all_years['club_name'].unique()"
   ]
  }
 ],
 "metadata": {
  "kernelspec": {
   "display_name": "Python 3",
   "language": "python",
   "name": "python3"
  },
  "language_info": {
   "codemirror_mode": {
    "name": "ipython",
    "version": 3
   },
   "file_extension": ".py",
   "mimetype": "text/x-python",
   "name": "python",
   "nbconvert_exporter": "python",
   "pygments_lexer": "ipython3",
   "version": "3.7.6"
  }
 },
 "nbformat": 4,
 "nbformat_minor": 4
}
