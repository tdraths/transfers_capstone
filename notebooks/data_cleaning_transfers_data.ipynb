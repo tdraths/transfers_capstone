{
 "cells": [
  {
   "cell_type": "markdown",
   "id": "measured-numbers",
   "metadata": {},
   "source": [
    "## Transfers Capstone - Data Cleaning\n",
    "\n",
    "### Data Collection: 2016 - 2020 Transfers Data, English Premier League & EFL Championship\n",
    "Data sourced from: https://github.com/ewenme/transfers"
   ]
  },
  {
   "cell_type": "markdown",
   "id": "attempted-breach",
   "metadata": {},
   "source": [
    "### I. Loading Data"
   ]
  },
  {
   "cell_type": "code",
   "execution_count": 1,
   "id": "adopted-gateway",
   "metadata": {},
   "outputs": [],
   "source": [
    "# Loading packages and combining multiple seasons' data from PL & EFL-C into one .csv file\n",
    "import pandas as pd\n",
    "import glob\n",
    "import os\n",
    "import numpy as np\n",
    "from pandas_profiling import ProfileReport\n",
    "\n",
    "cleaning_path = \"/home/tdraths/sb_assignments/Transfers_Capstone/data/original_data_sources/season_data\"\n",
    "\n",
    "os.chdir(cleaning_path)\n",
    "extension = 'csv'\n",
    "files = [i for i in glob.glob('*.{}'.format(extension))]\n",
    "\n",
    "combined_data = pd.concat([pd.read_csv(f) for f in files])\n",
    "\n",
    "combined_data.to_csv('combined_seasons_data.csv', index=False)"
   ]
  },
  {
   "cell_type": "code",
   "execution_count": 2,
   "id": "surprising-creativity",
   "metadata": {},
   "outputs": [],
   "source": [
    "# Loading new csv into 'transfers' dataframe\n",
    "transfers = pd.read_csv('combined_seasons_data.csv', low_memory=False)"
   ]
  },
  {
   "cell_type": "markdown",
   "id": "relevant-model",
   "metadata": {},
   "source": [
    "### II. Examining 'transfers' dataframe"
   ]
  },
  {
   "cell_type": "code",
   "execution_count": 3,
   "id": "champion-insider",
   "metadata": {},
   "outputs": [
    {
     "data": {
      "text/html": [
       "<div>\n",
       "<style scoped>\n",
       "    .dataframe tbody tr th:only-of-type {\n",
       "        vertical-align: middle;\n",
       "    }\n",
       "\n",
       "    .dataframe tbody tr th {\n",
       "        vertical-align: top;\n",
       "    }\n",
       "\n",
       "    .dataframe thead th {\n",
       "        text-align: right;\n",
       "    }\n",
       "</style>\n",
       "<table border=\"1\" class=\"dataframe\">\n",
       "  <thead>\n",
       "    <tr style=\"text-align: right;\">\n",
       "      <th></th>\n",
       "      <th>club_name</th>\n",
       "      <th>player_name</th>\n",
       "      <th>age</th>\n",
       "      <th>position</th>\n",
       "      <th>club_involved_name</th>\n",
       "      <th>fee</th>\n",
       "      <th>transfer_movement</th>\n",
       "      <th>transfer_period</th>\n",
       "      <th>fee_cleaned</th>\n",
       "      <th>league_name</th>\n",
       "      <th>year</th>\n",
       "      <th>season</th>\n",
       "    </tr>\n",
       "  </thead>\n",
       "  <tbody>\n",
       "    <tr>\n",
       "      <th>0</th>\n",
       "      <td>Arsenal FC</td>\n",
       "      <td>Thomas</td>\n",
       "      <td>27</td>\n",
       "      <td>Defensive Midfield</td>\n",
       "      <td>Atlético Madrid</td>\n",
       "      <td>£45.00m</td>\n",
       "      <td>in</td>\n",
       "      <td>Summer</td>\n",
       "      <td>45.0</td>\n",
       "      <td>Premier League</td>\n",
       "      <td>2020</td>\n",
       "      <td>2020/2021</td>\n",
       "    </tr>\n",
       "    <tr>\n",
       "      <th>1</th>\n",
       "      <td>Arsenal FC</td>\n",
       "      <td>Gabriel</td>\n",
       "      <td>22</td>\n",
       "      <td>Centre-Back</td>\n",
       "      <td>LOSC Lille</td>\n",
       "      <td>£23.40m</td>\n",
       "      <td>in</td>\n",
       "      <td>Summer</td>\n",
       "      <td>23.4</td>\n",
       "      <td>Premier League</td>\n",
       "      <td>2020</td>\n",
       "      <td>2020/2021</td>\n",
       "    </tr>\n",
       "    <tr>\n",
       "      <th>2</th>\n",
       "      <td>Arsenal FC</td>\n",
       "      <td>Pablo Marí</td>\n",
       "      <td>26</td>\n",
       "      <td>Centre-Back</td>\n",
       "      <td>Flamengo</td>\n",
       "      <td>£7.20m</td>\n",
       "      <td>in</td>\n",
       "      <td>Summer</td>\n",
       "      <td>7.2</td>\n",
       "      <td>Premier League</td>\n",
       "      <td>2020</td>\n",
       "      <td>2020/2021</td>\n",
       "    </tr>\n",
       "    <tr>\n",
       "      <th>3</th>\n",
       "      <td>Arsenal FC</td>\n",
       "      <td>Rúnar Alex Rúnarsson</td>\n",
       "      <td>25</td>\n",
       "      <td>Goalkeeper</td>\n",
       "      <td>Dijon</td>\n",
       "      <td>£1.80m</td>\n",
       "      <td>in</td>\n",
       "      <td>Summer</td>\n",
       "      <td>1.8</td>\n",
       "      <td>Premier League</td>\n",
       "      <td>2020</td>\n",
       "      <td>2020/2021</td>\n",
       "    </tr>\n",
       "    <tr>\n",
       "      <th>4</th>\n",
       "      <td>Arsenal FC</td>\n",
       "      <td>Cédric Soares</td>\n",
       "      <td>28</td>\n",
       "      <td>Right-Back</td>\n",
       "      <td>Southampton</td>\n",
       "      <td>Free transfer</td>\n",
       "      <td>in</td>\n",
       "      <td>Summer</td>\n",
       "      <td>0.0</td>\n",
       "      <td>Premier League</td>\n",
       "      <td>2020</td>\n",
       "      <td>2020/2021</td>\n",
       "    </tr>\n",
       "  </tbody>\n",
       "</table>\n",
       "</div>"
      ],
      "text/plain": [
       "    club_name           player_name  age            position  \\\n",
       "0  Arsenal FC                Thomas   27  Defensive Midfield   \n",
       "1  Arsenal FC               Gabriel   22         Centre-Back   \n",
       "2  Arsenal FC            Pablo Marí   26         Centre-Back   \n",
       "3  Arsenal FC  Rúnar Alex Rúnarsson   25          Goalkeeper   \n",
       "4  Arsenal FC         Cédric Soares   28          Right-Back   \n",
       "\n",
       "  club_involved_name            fee transfer_movement transfer_period  \\\n",
       "0    Atlético Madrid        £45.00m                in          Summer   \n",
       "1         LOSC Lille        £23.40m                in          Summer   \n",
       "2           Flamengo         £7.20m                in          Summer   \n",
       "3              Dijon         £1.80m                in          Summer   \n",
       "4        Southampton  Free transfer                in          Summer   \n",
       "\n",
       "   fee_cleaned     league_name  year     season  \n",
       "0         45.0  Premier League  2020  2020/2021  \n",
       "1         23.4  Premier League  2020  2020/2021  \n",
       "2          7.2  Premier League  2020  2020/2021  \n",
       "3          1.8  Premier League  2020  2020/2021  \n",
       "4          0.0  Premier League  2020  2020/2021  "
      ]
     },
     "execution_count": 3,
     "metadata": {},
     "output_type": "execute_result"
    }
   ],
   "source": [
    "transfers.head()"
   ]
  },
  {
   "cell_type": "code",
   "execution_count": 4,
   "id": "streaming-uniform",
   "metadata": {},
   "outputs": [
    {
     "data": {
      "text/plain": [
       "Index(['club_name', 'player_name', 'age', 'position', 'club_involved_name',\n",
       "       'fee', 'transfer_movement', 'transfer_period', 'fee_cleaned',\n",
       "       'league_name', 'year', 'season'],\n",
       "      dtype='object')"
      ]
     },
     "execution_count": 4,
     "metadata": {},
     "output_type": "execute_result"
    }
   ],
   "source": [
    "transfers.columns"
   ]
  },
  {
   "cell_type": "code",
   "execution_count": 5,
   "id": "brown-friendly",
   "metadata": {},
   "outputs": [
    {
     "data": {
      "text/plain": [
       "club_name              object\n",
       "player_name            object\n",
       "age                     int64\n",
       "position               object\n",
       "club_involved_name     object\n",
       "fee                    object\n",
       "transfer_movement      object\n",
       "transfer_period        object\n",
       "fee_cleaned           float64\n",
       "league_name            object\n",
       "year                    int64\n",
       "season                 object\n",
       "dtype: object"
      ]
     },
     "metadata": {},
     "output_type": "display_data"
    },
    {
     "name": "stdout",
     "output_type": "stream",
     "text": [
      "<class 'pandas.core.frame.DataFrame'>\n",
      "RangeIndex: 8597 entries, 0 to 8596\n",
      "Data columns (total 12 columns):\n",
      " #   Column              Non-Null Count  Dtype  \n",
      "---  ------              --------------  -----  \n",
      " 0   club_name           8597 non-null   object \n",
      " 1   player_name         8597 non-null   object \n",
      " 2   age                 8597 non-null   int64  \n",
      " 3   position            8597 non-null   object \n",
      " 4   club_involved_name  8597 non-null   object \n",
      " 5   fee                 8597 non-null   object \n",
      " 6   transfer_movement   8597 non-null   object \n",
      " 7   transfer_period     1200 non-null   object \n",
      " 8   fee_cleaned         7884 non-null   float64\n",
      " 9   league_name         8597 non-null   object \n",
      " 10  year                8597 non-null   int64  \n",
      " 11  season              8597 non-null   object \n",
      "dtypes: float64(1), int64(2), object(9)\n",
      "memory usage: 806.1+ KB\n"
     ]
    }
   ],
   "source": [
    "display(transfers.dtypes)\n",
    "transfers.info()"
   ]
  },
  {
   "cell_type": "code",
   "execution_count": 6,
   "id": "planned-ceiling",
   "metadata": {},
   "outputs": [
    {
     "data": {
      "text/plain": [
       "(8597, 12)"
      ]
     },
     "execution_count": 6,
     "metadata": {},
     "output_type": "execute_result"
    }
   ],
   "source": [
    "transfers.shape"
   ]
  },
  {
   "cell_type": "markdown",
   "id": "relative-spokesman",
   "metadata": {},
   "source": [
    "From the steps above:\n",
    " - I have a dataframe 'transfers' with 12 columns and over 160k records. \n",
    " - I have plenty of object-type columns, but only two int-type and one float-type\n",
    " - The columns in 'transfers' should help me create features later on, so I'll keep them all here for now.\n",
    " - **transfers['fee']** and **transfers['fee_cleaned']** are the object- and float-type columns showing the amount paid to a club for the player.\n",
    " - I'll use 'fee_cleaned' to calculate how much each club is spending per season, per player, per position, etc.\n",
    " - I'll drop 'fee'"
   ]
  },
  {
   "cell_type": "code",
   "execution_count": 7,
   "id": "engaged-novel",
   "metadata": {},
   "outputs": [
    {
     "data": {
      "text/plain": [
       "club_name               51\n",
       "player_name           2698\n",
       "age                     27\n",
       "position                16\n",
       "club_involved_name     803\n",
       "fee                    718\n",
       "transfer_movement        2\n",
       "transfer_period          2\n",
       "fee_cleaned            365\n",
       "league_name              2\n",
       "year                     5\n",
       "season                   5\n",
       "dtype: int64"
      ]
     },
     "execution_count": 7,
     "metadata": {},
     "output_type": "execute_result"
    }
   ],
   "source": [
    "transfers.nunique()"
   ]
  },
  {
   "cell_type": "code",
   "execution_count": 8,
   "id": "exterior-binary",
   "metadata": {},
   "outputs": [
    {
     "data": {
      "text/plain": [
       "Nottingham Forest          294\n",
       "Chelsea FC                 283\n",
       "Wolverhampton Wanderers    282\n",
       "Manchester City            246\n",
       "Birmingham City            245\n",
       "Reading FC                 244\n",
       "Watford FC                 242\n",
       "Brighton & Hove Albion     241\n",
       "Norwich City               234\n",
       "Leeds United               233\n",
       "Bristol City               231\n",
       "Aston Villa                212\n",
       "Fulham FC                  211\n",
       "Cardiff City               205\n",
       "Queens Park Rangers        202\n",
       "Barnsley FC                202\n",
       "Huddersfield Town          199\n",
       "Everton FC                 198\n",
       "Swansea City               198\n",
       "Newcastle United           196\n",
       "Middlesbrough FC           184\n",
       "Derby County               183\n",
       "Wigan Athletic             181\n",
       "Sheffield United           172\n",
       "Preston North End          167\n",
       "Stoke City                 167\n",
       "Hull City                  166\n",
       "AFC Bournemouth            161\n",
       "West Ham United            160\n",
       "Sheffield Wednesday        153\n",
       "Crystal Palace             148\n",
       "Brentford FC               147\n",
       "Southampton FC             145\n",
       "Leicester City             143\n",
       "Liverpool FC               141\n",
       "Arsenal FC                 141\n",
       "West Bromwich Albion       138\n",
       "Burnley FC                 137\n",
       "Millwall FC                136\n",
       "Ipswich Town               130\n",
       "Rotherham United           124\n",
       "Blackburn Rovers           122\n",
       "Manchester United          115\n",
       "Burton Albion              108\n",
       "Tottenham Hotspur           98\n",
       "Sunderland AFC              93\n",
       "Bolton Wanderers            88\n",
       "Luton Town                  55\n",
       "Charlton Athletic           45\n",
       "Coventry City               31\n",
       "Wycombe Wanderers           20\n",
       "Name: club_name, dtype: int64"
      ]
     },
     "execution_count": 8,
     "metadata": {},
     "output_type": "execute_result"
    }
   ],
   "source": [
    "transfers.club_name.value_counts()"
   ]
  },
  {
   "cell_type": "code",
   "execution_count": 9,
   "id": "meaning-bride",
   "metadata": {},
   "outputs": [
    {
     "data": {
      "text/html": [
       "<div>\n",
       "<style scoped>\n",
       "    .dataframe tbody tr th:only-of-type {\n",
       "        vertical-align: middle;\n",
       "    }\n",
       "\n",
       "    .dataframe tbody tr th {\n",
       "        vertical-align: top;\n",
       "    }\n",
       "\n",
       "    .dataframe thead th {\n",
       "        text-align: right;\n",
       "    }\n",
       "</style>\n",
       "<table border=\"1\" class=\"dataframe\">\n",
       "  <thead>\n",
       "    <tr style=\"text-align: right;\">\n",
       "      <th></th>\n",
       "      <th>count</th>\n",
       "      <th>mean</th>\n",
       "      <th>std</th>\n",
       "      <th>min</th>\n",
       "      <th>25%</th>\n",
       "      <th>50%</th>\n",
       "      <th>75%</th>\n",
       "      <th>max</th>\n",
       "    </tr>\n",
       "  </thead>\n",
       "  <tbody>\n",
       "    <tr>\n",
       "      <th>age</th>\n",
       "      <td>8597.0</td>\n",
       "      <td>24.719786</td>\n",
       "      <td>4.315770</td>\n",
       "      <td>16.0</td>\n",
       "      <td>21.0</td>\n",
       "      <td>24.0</td>\n",
       "      <td>28.0</td>\n",
       "      <td>43.0</td>\n",
       "    </tr>\n",
       "    <tr>\n",
       "      <th>fee_cleaned</th>\n",
       "      <td>7884.0</td>\n",
       "      <td>1.827636</td>\n",
       "      <td>6.698353</td>\n",
       "      <td>0.0</td>\n",
       "      <td>0.0</td>\n",
       "      <td>0.0</td>\n",
       "      <td>0.0</td>\n",
       "      <td>130.5</td>\n",
       "    </tr>\n",
       "    <tr>\n",
       "      <th>year</th>\n",
       "      <td>8597.0</td>\n",
       "      <td>2017.793649</td>\n",
       "      <td>1.359691</td>\n",
       "      <td>2016.0</td>\n",
       "      <td>2017.0</td>\n",
       "      <td>2018.0</td>\n",
       "      <td>2019.0</td>\n",
       "      <td>2020.0</td>\n",
       "    </tr>\n",
       "  </tbody>\n",
       "</table>\n",
       "</div>"
      ],
      "text/plain": [
       "              count         mean       std     min     25%     50%     75%  \\\n",
       "age          8597.0    24.719786  4.315770    16.0    21.0    24.0    28.0   \n",
       "fee_cleaned  7884.0     1.827636  6.698353     0.0     0.0     0.0     0.0   \n",
       "year         8597.0  2017.793649  1.359691  2016.0  2017.0  2018.0  2019.0   \n",
       "\n",
       "                max  \n",
       "age            43.0  \n",
       "fee_cleaned   130.5  \n",
       "year         2020.0  "
      ]
     },
     "execution_count": 9,
     "metadata": {},
     "output_type": "execute_result"
    }
   ],
   "source": [
    "transfers.describe().T"
   ]
  },
  {
   "cell_type": "code",
   "execution_count": 10,
   "id": "persistent-design",
   "metadata": {},
   "outputs": [
    {
     "data": {
      "text/html": [
       "<div>\n",
       "<style scoped>\n",
       "    .dataframe tbody tr th:only-of-type {\n",
       "        vertical-align: middle;\n",
       "    }\n",
       "\n",
       "    .dataframe tbody tr th {\n",
       "        vertical-align: top;\n",
       "    }\n",
       "\n",
       "    .dataframe thead th {\n",
       "        text-align: right;\n",
       "    }\n",
       "</style>\n",
       "<table border=\"1\" class=\"dataframe\">\n",
       "  <thead>\n",
       "    <tr style=\"text-align: right;\">\n",
       "      <th></th>\n",
       "      <th>min</th>\n",
       "      <th>max</th>\n",
       "    </tr>\n",
       "  </thead>\n",
       "  <tbody>\n",
       "    <tr>\n",
       "      <th>club_name</th>\n",
       "      <td>AFC Bournemouth</td>\n",
       "      <td>Wycombe Wanderers</td>\n",
       "    </tr>\n",
       "    <tr>\n",
       "      <th>player_name</th>\n",
       "      <td>Aapo Halme</td>\n",
       "      <td>Örjan Nyland</td>\n",
       "    </tr>\n",
       "    <tr>\n",
       "      <th>age</th>\n",
       "      <td>16</td>\n",
       "      <td>43</td>\n",
       "    </tr>\n",
       "    <tr>\n",
       "      <th>position</th>\n",
       "      <td>Attacking Midfield</td>\n",
       "      <td>Second Striker</td>\n",
       "    </tr>\n",
       "    <tr>\n",
       "      <th>club_involved_name</th>\n",
       "      <td>1. FC Köln</td>\n",
       "      <td>Östersund</td>\n",
       "    </tr>\n",
       "    <tr>\n",
       "      <th>fee</th>\n",
       "      <td>-</td>\n",
       "      <td>£990k</td>\n",
       "    </tr>\n",
       "    <tr>\n",
       "      <th>transfer_movement</th>\n",
       "      <td>in</td>\n",
       "      <td>out</td>\n",
       "    </tr>\n",
       "    <tr>\n",
       "      <th>fee_cleaned</th>\n",
       "      <td>0.0</td>\n",
       "      <td>130.5</td>\n",
       "    </tr>\n",
       "    <tr>\n",
       "      <th>league_name</th>\n",
       "      <td>Championship</td>\n",
       "      <td>Premier League</td>\n",
       "    </tr>\n",
       "    <tr>\n",
       "      <th>year</th>\n",
       "      <td>2016</td>\n",
       "      <td>2020</td>\n",
       "    </tr>\n",
       "    <tr>\n",
       "      <th>season</th>\n",
       "      <td>2016/2017</td>\n",
       "      <td>2020/2021</td>\n",
       "    </tr>\n",
       "  </tbody>\n",
       "</table>\n",
       "</div>"
      ],
      "text/plain": [
       "                                   min                max\n",
       "club_name              AFC Bournemouth  Wycombe Wanderers\n",
       "player_name                 Aapo Halme       Örjan Nyland\n",
       "age                                 16                 43\n",
       "position            Attacking Midfield     Second Striker\n",
       "club_involved_name          1. FC Köln          Östersund\n",
       "fee                                  -              £990k\n",
       "transfer_movement                   in                out\n",
       "fee_cleaned                        0.0              130.5\n",
       "league_name               Championship     Premier League\n",
       "year                              2016               2020\n",
       "season                       2016/2017          2020/2021"
      ]
     },
     "execution_count": 10,
     "metadata": {},
     "output_type": "execute_result"
    }
   ],
   "source": [
    "transfers.agg([min, max]).T"
   ]
  },
  {
   "cell_type": "code",
   "execution_count": 11,
   "id": "stainless-program",
   "metadata": {},
   "outputs": [
    {
     "data": {
      "text/plain": [
       "club_name                0\n",
       "player_name              0\n",
       "age                      0\n",
       "position                 0\n",
       "club_involved_name       0\n",
       "fee                      0\n",
       "transfer_movement        0\n",
       "transfer_period       7397\n",
       "fee_cleaned            713\n",
       "league_name              0\n",
       "year                     0\n",
       "season                   0\n",
       "dtype: int64"
      ]
     },
     "execution_count": 11,
     "metadata": {},
     "output_type": "execute_result"
    }
   ],
   "source": [
    "transfers.isna().sum()\n",
    "# transfer_period has a lot of null values; I'll drop it\n"
   ]
  },
  {
   "cell_type": "code",
   "execution_count": 12,
   "id": "french-adrian",
   "metadata": {},
   "outputs": [],
   "source": [
    "transfers.drop(columns=['fee', 'transfer_period'], inplace=True)"
   ]
  },
  {
   "cell_type": "code",
   "execution_count": 13,
   "id": "robust-philippines",
   "metadata": {},
   "outputs": [
    {
     "data": {
      "text/plain": [
       "Index(['club_name', 'player_name', 'age', 'position', 'club_involved_name',\n",
       "       'transfer_movement', 'fee_cleaned', 'league_name', 'year', 'season'],\n",
       "      dtype='object')"
      ]
     },
     "execution_count": 13,
     "metadata": {},
     "output_type": "execute_result"
    }
   ],
   "source": [
    "transfers.columns"
   ]
  },
  {
   "cell_type": "code",
   "execution_count": 14,
   "id": "verbal-horror",
   "metadata": {},
   "outputs": [
    {
     "data": {
      "text/plain": [
       "club_name             0\n",
       "player_name           0\n",
       "age                   0\n",
       "position              0\n",
       "club_involved_name    0\n",
       "transfer_movement     0\n",
       "fee_cleaned           0\n",
       "league_name           0\n",
       "year                  0\n",
       "season                0\n",
       "dtype: int64"
      ]
     },
     "execution_count": 14,
     "metadata": {},
     "output_type": "execute_result"
    }
   ],
   "source": [
    "# Handling the null values in 'fee_cleaned'\n",
    "transfers.fee_cleaned.fillna(0, inplace=True)\n",
    "transfers.isna().sum()"
   ]
  },
  {
   "cell_type": "code",
   "execution_count": 15,
   "id": "least-investigation",
   "metadata": {},
   "outputs": [
    {
     "data": {
      "text/plain": [
       "142"
      ]
     },
     "execution_count": 15,
     "metadata": {},
     "output_type": "execute_result"
    }
   ],
   "source": [
    "transfers.duplicated().sum()"
   ]
  },
  {
   "cell_type": "markdown",
   "id": "monthly-coffee",
   "metadata": {},
   "source": [
    "#### Example of duplicate records from web-scraped data\n",
    " - The subset below shows duplicate data for one player, and there are other players with similar duplicates.\n",
    " - While it is relatively common that a player might transfer in and out of a club multiple times in a season, I do not need a duplicate record of the exact same transfer."
   ]
  },
  {
   "cell_type": "code",
   "execution_count": 16,
   "id": "natural-objective",
   "metadata": {},
   "outputs": [
    {
     "data": {
      "text/html": [
       "<div>\n",
       "<style scoped>\n",
       "    .dataframe tbody tr th:only-of-type {\n",
       "        vertical-align: middle;\n",
       "    }\n",
       "\n",
       "    .dataframe tbody tr th {\n",
       "        vertical-align: top;\n",
       "    }\n",
       "\n",
       "    .dataframe thead th {\n",
       "        text-align: right;\n",
       "    }\n",
       "</style>\n",
       "<table border=\"1\" class=\"dataframe\">\n",
       "  <thead>\n",
       "    <tr style=\"text-align: right;\">\n",
       "      <th></th>\n",
       "      <th>club_name</th>\n",
       "      <th>player_name</th>\n",
       "      <th>age</th>\n",
       "      <th>position</th>\n",
       "      <th>club_involved_name</th>\n",
       "      <th>transfer_movement</th>\n",
       "      <th>fee_cleaned</th>\n",
       "      <th>league_name</th>\n",
       "      <th>year</th>\n",
       "      <th>season</th>\n",
       "    </tr>\n",
       "  </thead>\n",
       "  <tbody>\n",
       "    <tr>\n",
       "      <th>36</th>\n",
       "      <td>Aston Villa</td>\n",
       "      <td>Örjan Nyland</td>\n",
       "      <td>30</td>\n",
       "      <td>Goalkeeper</td>\n",
       "      <td>Without Club</td>\n",
       "      <td>out</td>\n",
       "      <td>0.0</td>\n",
       "      <td>Premier League</td>\n",
       "      <td>2020</td>\n",
       "      <td>2020/2021</td>\n",
       "    </tr>\n",
       "    <tr>\n",
       "      <th>502</th>\n",
       "      <td>Aston Villa</td>\n",
       "      <td>Örjan Nyland</td>\n",
       "      <td>30</td>\n",
       "      <td>Goalkeeper</td>\n",
       "      <td>Without Club</td>\n",
       "      <td>out</td>\n",
       "      <td>0.0</td>\n",
       "      <td>Premier League</td>\n",
       "      <td>2020</td>\n",
       "      <td>2020/2021</td>\n",
       "    </tr>\n",
       "    <tr>\n",
       "      <th>5257</th>\n",
       "      <td>Aston Villa</td>\n",
       "      <td>Örjan Nyland</td>\n",
       "      <td>27</td>\n",
       "      <td>Goalkeeper</td>\n",
       "      <td>FC Ingolstadt</td>\n",
       "      <td>in</td>\n",
       "      <td>2.7</td>\n",
       "      <td>Championship</td>\n",
       "      <td>2018</td>\n",
       "      <td>2018/2019</td>\n",
       "    </tr>\n",
       "  </tbody>\n",
       "</table>\n",
       "</div>"
      ],
      "text/plain": [
       "        club_name   player_name  age    position club_involved_name  \\\n",
       "36    Aston Villa  Örjan Nyland   30  Goalkeeper       Without Club   \n",
       "502   Aston Villa  Örjan Nyland   30  Goalkeeper       Without Club   \n",
       "5257  Aston Villa  Örjan Nyland   27  Goalkeeper      FC Ingolstadt   \n",
       "\n",
       "     transfer_movement  fee_cleaned     league_name  year     season  \n",
       "36                 out          0.0  Premier League  2020  2020/2021  \n",
       "502                out          0.0  Premier League  2020  2020/2021  \n",
       "5257                in          2.7    Championship  2018  2018/2019  "
      ]
     },
     "execution_count": 16,
     "metadata": {},
     "output_type": "execute_result"
    }
   ],
   "source": [
    "transfers[transfers.player_name == 'Örjan Nyland']"
   ]
  },
  {
   "cell_type": "code",
   "execution_count": 17,
   "id": "pointed-craft",
   "metadata": {},
   "outputs": [
    {
     "data": {
      "text/plain": [
       "(8455, 10)"
      ]
     },
     "execution_count": 17,
     "metadata": {},
     "output_type": "execute_result"
    }
   ],
   "source": [
    "transfers = transfers.drop_duplicates()\n",
    "transfers.shape"
   ]
  },
  {
   "cell_type": "code",
   "execution_count": 18,
   "id": "subsequent-intersection",
   "metadata": {},
   "outputs": [
    {
     "data": {
      "text/html": [
       "<div>\n",
       "<style scoped>\n",
       "    .dataframe tbody tr th:only-of-type {\n",
       "        vertical-align: middle;\n",
       "    }\n",
       "\n",
       "    .dataframe tbody tr th {\n",
       "        vertical-align: top;\n",
       "    }\n",
       "\n",
       "    .dataframe thead th {\n",
       "        text-align: right;\n",
       "    }\n",
       "</style>\n",
       "<table border=\"1\" class=\"dataframe\">\n",
       "  <thead>\n",
       "    <tr style=\"text-align: right;\">\n",
       "      <th></th>\n",
       "      <th>age</th>\n",
       "      <th>fee_cleaned</th>\n",
       "      <th>year</th>\n",
       "    </tr>\n",
       "  </thead>\n",
       "  <tbody>\n",
       "    <tr>\n",
       "      <th>count</th>\n",
       "      <td>8455.000000</td>\n",
       "      <td>8455.000000</td>\n",
       "      <td>8455.000000</td>\n",
       "    </tr>\n",
       "    <tr>\n",
       "      <th>mean</th>\n",
       "      <td>24.731520</td>\n",
       "      <td>1.669604</td>\n",
       "      <td>2017.766647</td>\n",
       "    </tr>\n",
       "    <tr>\n",
       "      <th>std</th>\n",
       "      <td>4.322691</td>\n",
       "      <td>6.434017</td>\n",
       "      <td>1.346455</td>\n",
       "    </tr>\n",
       "    <tr>\n",
       "      <th>min</th>\n",
       "      <td>16.000000</td>\n",
       "      <td>0.000000</td>\n",
       "      <td>2016.000000</td>\n",
       "    </tr>\n",
       "    <tr>\n",
       "      <th>25%</th>\n",
       "      <td>21.000000</td>\n",
       "      <td>0.000000</td>\n",
       "      <td>2017.000000</td>\n",
       "    </tr>\n",
       "    <tr>\n",
       "      <th>50%</th>\n",
       "      <td>24.000000</td>\n",
       "      <td>0.000000</td>\n",
       "      <td>2018.000000</td>\n",
       "    </tr>\n",
       "    <tr>\n",
       "      <th>75%</th>\n",
       "      <td>28.000000</td>\n",
       "      <td>0.000000</td>\n",
       "      <td>2019.000000</td>\n",
       "    </tr>\n",
       "    <tr>\n",
       "      <th>max</th>\n",
       "      <td>43.000000</td>\n",
       "      <td>130.500000</td>\n",
       "      <td>2020.000000</td>\n",
       "    </tr>\n",
       "  </tbody>\n",
       "</table>\n",
       "</div>"
      ],
      "text/plain": [
       "               age  fee_cleaned         year\n",
       "count  8455.000000  8455.000000  8455.000000\n",
       "mean     24.731520     1.669604  2017.766647\n",
       "std       4.322691     6.434017     1.346455\n",
       "min      16.000000     0.000000  2016.000000\n",
       "25%      21.000000     0.000000  2017.000000\n",
       "50%      24.000000     0.000000  2018.000000\n",
       "75%      28.000000     0.000000  2019.000000\n",
       "max      43.000000   130.500000  2020.000000"
      ]
     },
     "execution_count": 18,
     "metadata": {},
     "output_type": "execute_result"
    }
   ],
   "source": [
    "transfers.describe()"
   ]
  },
  {
   "cell_type": "markdown",
   "id": "surprising-belize",
   "metadata": {},
   "source": [
    "### III. Fixing club name issues\n",
    " - I want to standardize my club names since I'll be combining two dataframes, and I do not want to lose any data when the club names are merged\n",
    " - I'll build a dictionary of the new names I want for my clubs, and add them to the dataframe\n",
    " - I'll keep the original club names as well, just in case I need them for reference or future use"
   ]
  },
  {
   "cell_type": "code",
   "execution_count": 19,
   "id": "configured-flood",
   "metadata": {},
   "outputs": [
    {
     "data": {
      "text/plain": [
       "Nottingham Forest          286\n",
       "Wolverhampton Wanderers    279\n",
       "Chelsea FC                 277\n",
       "Birmingham City            242\n",
       "Manchester City            241\n",
       "Reading FC                 240\n",
       "Watford FC                 236\n",
       "Brighton & Hove Albion     233\n",
       "Norwich City               231\n",
       "Leeds United               230\n",
       "Bristol City               227\n",
       "Aston Villa                210\n",
       "Fulham FC                  208\n",
       "Cardiff City               203\n",
       "Huddersfield Town          199\n",
       "Queens Park Rangers        198\n",
       "Barnsley FC                197\n",
       "Newcastle United           194\n",
       "Swansea City               193\n",
       "Everton FC                 193\n",
       "Middlesbrough FC           184\n",
       "Derby County               181\n",
       "Wigan Athletic             179\n",
       "Sheffield United           169\n",
       "Hull City                  166\n",
       "Preston North End          165\n",
       "Stoke City                 165\n",
       "AFC Bournemouth            159\n",
       "West Ham United            155\n",
       "Sheffield Wednesday        153\n",
       "Crystal Palace             146\n",
       "Brentford FC               144\n",
       "Southampton FC             140\n",
       "Leicester City             140\n",
       "Liverpool FC               139\n",
       "West Bromwich Albion       138\n",
       "Arsenal FC                 137\n",
       "Burnley FC                 136\n",
       "Millwall FC                135\n",
       "Ipswich Town               127\n",
       "Rotherham United           123\n",
       "Blackburn Rovers           118\n",
       "Manchester United          109\n",
       "Burton Albion              108\n",
       "Tottenham Hotspur           95\n",
       "Sunderland AFC              93\n",
       "Bolton Wanderers            86\n",
       "Luton Town                  55\n",
       "Charlton Athletic           45\n",
       "Coventry City               29\n",
       "Wycombe Wanderers           19\n",
       "Name: club_name, dtype: int64"
      ]
     },
     "execution_count": 19,
     "metadata": {},
     "output_type": "execute_result"
    }
   ],
   "source": [
    "transfers.club_name.value_counts()"
   ]
  },
  {
   "cell_type": "code",
   "execution_count": 20,
   "id": "separated-donna",
   "metadata": {},
   "outputs": [],
   "source": [
    "# Creating a dictionary of shortened team names using common acronyms\n",
    "transfer_names_short = {\n",
    "    'Nottingham Forest': 'NOT', 'Chelsea FC': 'CHE', 'Wolverhampton Wanderers': 'WLV', 'Manchester City': 'MNC', 'Birmingham City': 'BRM',\n",
    "    'Reading FC': 'REA', 'Watford FC': 'WAT', 'Brighton & Hove Albion': 'BHA', 'Norwich City': 'NOR', 'Leeds United': 'LEE',\n",
    "    'Bristol City': 'BRS', 'Aston Villa': 'AST', 'Fulham FC': 'FUL', 'Cardiff City': 'CAR', 'Queens Park Rangers': 'QPR', 'Barnsley FC': 'BAR',\n",
    "    'Huddersfield Town': 'HUD', 'Everton FC': 'EVE', 'Swansea City': 'SWA', 'Newcastle United': 'NEW', 'Middlesbrough FC': 'MID', \n",
    "    'Derby County': 'DER', 'Wigan Athletic': 'WIG', 'Sheffield United': 'SHU', 'Stoke City': 'STO', 'Preston North End': 'PRE', \n",
    "    'Hull City': 'HUL', 'AFC Bournemouth': 'BOU', 'West Ham United': 'WHU', 'Sheffield Wednesday': 'SHW', 'Crystal Palace': 'CRY', \n",
    "    'Brentford FC': 'BRE', 'Southampton FC': 'SOU', 'Leicester City': 'LEI', 'Liverpool FC': 'LIV', 'Arsenal FC': 'ARS', \n",
    "    'West Bromwich Albion': 'WBA', 'Burnley FC': 'BUR', 'Millwall FC': 'MIL', 'Ipswich Town': 'IPS', 'Rotherham United': 'ROT', \n",
    "    'Blackburn Rovers': 'BLA', 'Manchester United': 'MNU', 'Burton Albion': 'BRT', 'Tottenham Hotspur': 'TOT', 'Sunderland AFC': 'SUN', \n",
    "    'Bolton Wanderers': 'BOL', 'Luton Town': 'LUT', 'Charlton Athletic': 'CHA', 'Coventry City': 'COV', 'Wycombe Wanderers': 'WYC'\n",
    "}"
   ]
  },
  {
   "cell_type": "code",
   "execution_count": 21,
   "id": "missing-powell",
   "metadata": {},
   "outputs": [
    {
     "data": {
      "text/plain": [
       "Index(['club_name', 'player_name', 'age', 'position', 'club_involved_name',\n",
       "       'transfer_movement', 'fee_cleaned', 'league_name', 'year', 'season',\n",
       "       'team_short'],\n",
       "      dtype='object')"
      ]
     },
     "execution_count": 21,
     "metadata": {},
     "output_type": "execute_result"
    }
   ],
   "source": [
    "# Creating new columns of shortened names\n",
    "transfers['team_short'] = transfers['club_name'].replace(transfer_names_short)\n",
    "transfers.columns"
   ]
  },
  {
   "cell_type": "code",
   "execution_count": 22,
   "id": "subsequent-state",
   "metadata": {},
   "outputs": [
    {
     "data": {
      "text/html": [
       "<div>\n",
       "<style scoped>\n",
       "    .dataframe tbody tr th:only-of-type {\n",
       "        vertical-align: middle;\n",
       "    }\n",
       "\n",
       "    .dataframe tbody tr th {\n",
       "        vertical-align: top;\n",
       "    }\n",
       "\n",
       "    .dataframe thead th {\n",
       "        text-align: right;\n",
       "    }\n",
       "</style>\n",
       "<table border=\"1\" class=\"dataframe\">\n",
       "  <thead>\n",
       "    <tr style=\"text-align: right;\">\n",
       "      <th></th>\n",
       "      <th>club_name</th>\n",
       "      <th>team_short</th>\n",
       "      <th>player_name</th>\n",
       "      <th>age</th>\n",
       "      <th>position</th>\n",
       "      <th>club_involved_name</th>\n",
       "      <th>transfer_movement</th>\n",
       "      <th>fee_cleaned</th>\n",
       "      <th>league_name</th>\n",
       "      <th>year</th>\n",
       "      <th>season</th>\n",
       "    </tr>\n",
       "  </thead>\n",
       "  <tbody>\n",
       "    <tr>\n",
       "      <th>0</th>\n",
       "      <td>Arsenal FC</td>\n",
       "      <td>ARS</td>\n",
       "      <td>Thomas</td>\n",
       "      <td>27</td>\n",
       "      <td>Defensive Midfield</td>\n",
       "      <td>Atlético Madrid</td>\n",
       "      <td>in</td>\n",
       "      <td>45.0</td>\n",
       "      <td>Premier League</td>\n",
       "      <td>2020</td>\n",
       "      <td>2020/2021</td>\n",
       "    </tr>\n",
       "    <tr>\n",
       "      <th>1</th>\n",
       "      <td>Arsenal FC</td>\n",
       "      <td>ARS</td>\n",
       "      <td>Gabriel</td>\n",
       "      <td>22</td>\n",
       "      <td>Centre-Back</td>\n",
       "      <td>LOSC Lille</td>\n",
       "      <td>in</td>\n",
       "      <td>23.4</td>\n",
       "      <td>Premier League</td>\n",
       "      <td>2020</td>\n",
       "      <td>2020/2021</td>\n",
       "    </tr>\n",
       "    <tr>\n",
       "      <th>2</th>\n",
       "      <td>Arsenal FC</td>\n",
       "      <td>ARS</td>\n",
       "      <td>Pablo Marí</td>\n",
       "      <td>26</td>\n",
       "      <td>Centre-Back</td>\n",
       "      <td>Flamengo</td>\n",
       "      <td>in</td>\n",
       "      <td>7.2</td>\n",
       "      <td>Premier League</td>\n",
       "      <td>2020</td>\n",
       "      <td>2020/2021</td>\n",
       "    </tr>\n",
       "    <tr>\n",
       "      <th>3</th>\n",
       "      <td>Arsenal FC</td>\n",
       "      <td>ARS</td>\n",
       "      <td>Rúnar Alex Rúnarsson</td>\n",
       "      <td>25</td>\n",
       "      <td>Goalkeeper</td>\n",
       "      <td>Dijon</td>\n",
       "      <td>in</td>\n",
       "      <td>1.8</td>\n",
       "      <td>Premier League</td>\n",
       "      <td>2020</td>\n",
       "      <td>2020/2021</td>\n",
       "    </tr>\n",
       "    <tr>\n",
       "      <th>4</th>\n",
       "      <td>Arsenal FC</td>\n",
       "      <td>ARS</td>\n",
       "      <td>Cédric Soares</td>\n",
       "      <td>28</td>\n",
       "      <td>Right-Back</td>\n",
       "      <td>Southampton</td>\n",
       "      <td>in</td>\n",
       "      <td>0.0</td>\n",
       "      <td>Premier League</td>\n",
       "      <td>2020</td>\n",
       "      <td>2020/2021</td>\n",
       "    </tr>\n",
       "  </tbody>\n",
       "</table>\n",
       "</div>"
      ],
      "text/plain": [
       "    club_name team_short           player_name  age            position  \\\n",
       "0  Arsenal FC        ARS                Thomas   27  Defensive Midfield   \n",
       "1  Arsenal FC        ARS               Gabriel   22         Centre-Back   \n",
       "2  Arsenal FC        ARS            Pablo Marí   26         Centre-Back   \n",
       "3  Arsenal FC        ARS  Rúnar Alex Rúnarsson   25          Goalkeeper   \n",
       "4  Arsenal FC        ARS         Cédric Soares   28          Right-Back   \n",
       "\n",
       "  club_involved_name transfer_movement  fee_cleaned     league_name  year  \\\n",
       "0    Atlético Madrid                in         45.0  Premier League  2020   \n",
       "1         LOSC Lille                in         23.4  Premier League  2020   \n",
       "2           Flamengo                in          7.2  Premier League  2020   \n",
       "3              Dijon                in          1.8  Premier League  2020   \n",
       "4        Southampton                in          0.0  Premier League  2020   \n",
       "\n",
       "      season  \n",
       "0  2020/2021  \n",
       "1  2020/2021  \n",
       "2  2020/2021  \n",
       "3  2020/2021  \n",
       "4  2020/2021  "
      ]
     },
     "execution_count": 22,
     "metadata": {},
     "output_type": "execute_result"
    }
   ],
   "source": [
    "# Reorganizing my columns\n",
    "cols = ['club_name','team_short', 'player_name', 'age', 'position', 'club_involved_name', \n",
    "        'transfer_movement', 'fee_cleaned', 'league_name', 'year', 'season']\n",
    "transfers = transfers[cols]\n",
    "\n",
    "transfers.head()"
   ]
  },
  {
   "cell_type": "code",
   "execution_count": 23,
   "id": "french-tobago",
   "metadata": {},
   "outputs": [
    {
     "data": {
      "text/plain": [
       "Nottingham Forest          286\n",
       "Wolverhampton Wanderers    279\n",
       "Chelsea FC                 277\n",
       "Birmingham City            242\n",
       "Manchester City            241\n",
       "Reading FC                 240\n",
       "Watford FC                 236\n",
       "Brighton & Hove Albion     233\n",
       "Norwich City               231\n",
       "Leeds United               230\n",
       "Bristol City               227\n",
       "Aston Villa                210\n",
       "Fulham FC                  208\n",
       "Cardiff City               203\n",
       "Huddersfield Town          199\n",
       "Queens Park Rangers        198\n",
       "Barnsley FC                197\n",
       "Newcastle United           194\n",
       "Swansea City               193\n",
       "Everton FC                 193\n",
       "Middlesbrough FC           184\n",
       "Derby County               181\n",
       "Wigan Athletic             179\n",
       "Sheffield United           169\n",
       "Hull City                  166\n",
       "Preston North End          165\n",
       "Stoke City                 165\n",
       "AFC Bournemouth            159\n",
       "West Ham United            155\n",
       "Sheffield Wednesday        153\n",
       "Crystal Palace             146\n",
       "Brentford FC               144\n",
       "Southampton FC             140\n",
       "Leicester City             140\n",
       "Liverpool FC               139\n",
       "West Bromwich Albion       138\n",
       "Arsenal FC                 137\n",
       "Burnley FC                 136\n",
       "Millwall FC                135\n",
       "Ipswich Town               127\n",
       "Rotherham United           123\n",
       "Blackburn Rovers           118\n",
       "Manchester United          109\n",
       "Burton Albion              108\n",
       "Tottenham Hotspur           95\n",
       "Sunderland AFC              93\n",
       "Bolton Wanderers            86\n",
       "Luton Town                  55\n",
       "Charlton Athletic           45\n",
       "Coventry City               29\n",
       "Wycombe Wanderers           19\n",
       "Name: club_name, dtype: int64"
      ]
     },
     "metadata": {},
     "output_type": "display_data"
    },
    {
     "data": {
      "text/plain": [
       "NOT    286\n",
       "WLV    279\n",
       "CHE    277\n",
       "BRM    242\n",
       "MNC    241\n",
       "REA    240\n",
       "WAT    236\n",
       "BHA    233\n",
       "NOR    231\n",
       "LEE    230\n",
       "BRS    227\n",
       "AST    210\n",
       "FUL    208\n",
       "CAR    203\n",
       "HUD    199\n",
       "QPR    198\n",
       "BAR    197\n",
       "NEW    194\n",
       "SWA    193\n",
       "EVE    193\n",
       "MID    184\n",
       "DER    181\n",
       "WIG    179\n",
       "SHU    169\n",
       "HUL    166\n",
       "STO    165\n",
       "PRE    165\n",
       "BOU    159\n",
       "WHU    155\n",
       "SHW    153\n",
       "CRY    146\n",
       "BRE    144\n",
       "LEI    140\n",
       "SOU    140\n",
       "LIV    139\n",
       "WBA    138\n",
       "ARS    137\n",
       "BUR    136\n",
       "MIL    135\n",
       "IPS    127\n",
       "ROT    123\n",
       "BLA    118\n",
       "MNU    109\n",
       "BRT    108\n",
       "TOT     95\n",
       "SUN     93\n",
       "BOL     86\n",
       "LUT     55\n",
       "CHA     45\n",
       "COV     29\n",
       "WYC     19\n",
       "Name: team_short, dtype: int64"
      ]
     },
     "execution_count": 23,
     "metadata": {},
     "output_type": "execute_result"
    }
   ],
   "source": [
    "display(transfers.club_name.value_counts())\n",
    "transfers.team_short.value_counts()"
   ]
  },
  {
   "cell_type": "code",
   "execution_count": 24,
   "id": "temporal-pound",
   "metadata": {},
   "outputs": [],
   "source": [
    "transfers.to_csv('/home/tdraths/sb_assignments/Transfers_Capstone/data/data_cleaning_outputs/transfers_best.csv')"
   ]
  },
  {
   "cell_type": "markdown",
   "id": "generous-night",
   "metadata": {},
   "source": [
    "#### What's happened so far:\n",
    " - I have multiple seasons' (2016-17 to 2020-21) worth of data showing the names, positions, clubs, fees and other data points for every transfer in the EPL and EFL-C.\n",
    " - I combined those season .csv files into one .csv file and loaded it into a dataframe 'transfers'\n",
    " - I dropped two columns that were unnecessary: 'fee' because it was an object-type column and I already had a float-type to use, and 'transfer_period' because it had too much missing data.\n",
    " - I dropped all duplicate rows."
   ]
  }
 ],
 "metadata": {
  "kernelspec": {
   "display_name": "Python 3",
   "language": "python",
   "name": "python3"
  },
  "language_info": {
   "codemirror_mode": {
    "name": "ipython",
    "version": 3
   },
   "file_extension": ".py",
   "mimetype": "text/x-python",
   "name": "python",
   "nbconvert_exporter": "python",
   "pygments_lexer": "ipython3",
   "version": "3.7.6"
  }
 },
 "nbformat": 4,
 "nbformat_minor": 5
}
